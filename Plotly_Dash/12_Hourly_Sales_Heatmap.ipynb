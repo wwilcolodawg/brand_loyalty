{
 "cells": [
  {
   "cell_type": "code",
   "execution_count": 1,
   "metadata": {},
   "outputs": [],
   "source": [
    "import os\n",
    "import pandas as pd\n",
    "import numpy as np\n",
    "import seaborn as sns\n",
    "import matplotlib.pyplot as plt\n",
    "from ipywidgets import widgets, interact, Dropdown, fixed\n",
    "from IPython.display import display\n",
    "import plotly.express as px\n",
    "from datetime import datetime\n",
    "import plotly.graph_objects as go"
   ]
  },
  {
   "cell_type": "code",
   "execution_count": 2,
   "metadata": {},
   "outputs": [],
   "source": [
    "# Path to go up one level from the current folder to the parent folder\n",
    "parent_path = os.path.join(os.getcwd(), '..')\n",
    "\n",
    "# Path to the target data folder\n",
    "data_folder_path = os.path.join(parent_path, 'Data')"
   ]
  },
  {
   "cell_type": "code",
   "execution_count": 3,
   "metadata": {},
   "outputs": [],
   "source": [
    "menu_df = pd.read_csv(os.path.join(data_folder_path, 'menu_analysis.csv'))\n",
    "customers_df = pd.read_csv(os.path.join(data_folder_path, 'customers.csv'))\n",
    "stores_df = pd.read_csv(os.path.join(data_folder_path, 'stores.csv'))\n",
    "structure_df = pd.read_csv(os.path.join(data_folder_path, 'structure.csv'))\n",
    "size_df = pd.read_csv(os.path.join(data_folder_path, 'order_size.csv'))\n",
    "transactions_df = pd.read_csv(\n",
    "        os.path.join(data_folder_path, \"transactions.csv\"),\n",
    "        parse_dates=['Transaction_Date']  # Modify as needed if format issues arise\n",
    "    )"
   ]
  },
  {
   "cell_type": "markdown",
   "metadata": {},
   "source": [
    "### Modification 1"
   ]
  },
  {
   "cell_type": "code",
   "execution_count": 9,
   "metadata": {},
   "outputs": [],
   "source": [
    "transactions_df = pd.merge(transactions_df, menu_df[['Item_Number', 'Price']], on = 'Item_Number')"
   ]
  },
  {
   "cell_type": "markdown",
   "metadata": {},
   "source": [
    "### Modification 2"
   ]
  },
  {
   "cell_type": "code",
   "execution_count": 10,
   "metadata": {},
   "outputs": [],
   "source": [
    "# Ensure column names are referenced correctly\n",
    "transactions_df['Transaction_Time'] = transactions_df['Transaction_Time'].astype(str)\n",
    "transactions_df['Transaction_Date'] = transactions_df['Transaction_Date'].astype(str)\n",
    "\n",
    "# Combine Date and Time columns into one datetime column\n",
    "transactions_df['DateTime'] = pd.to_datetime(transactions_df['Transaction_Date'] + ' ' + transactions_df['Transaction_Time'])\n",
    "\n",
    "# Extract day of week and hour\n",
    "transactions_df['DayOfWeek'] = transactions_df['DateTime'].dt.day_name()  # Using day_name() to get the day of the week as a name\n",
    "transactions_df['Hour'] = transactions_df['DateTime'].dt.hour\n"
   ]
  },
  {
   "cell_type": "code",
   "execution_count": 11,
   "metadata": {},
   "outputs": [
    {
     "data": {
      "text/html": [
       "<div>\n",
       "<style scoped>\n",
       "    .dataframe tbody tr th:only-of-type {\n",
       "        vertical-align: middle;\n",
       "    }\n",
       "\n",
       "    .dataframe tbody tr th {\n",
       "        vertical-align: top;\n",
       "    }\n",
       "\n",
       "    .dataframe thead th {\n",
       "        text-align: right;\n",
       "    }\n",
       "</style>\n",
       "<table border=\"1\" class=\"dataframe\">\n",
       "  <thead>\n",
       "    <tr style=\"text-align: right;\">\n",
       "      <th></th>\n",
       "      <th>Order_Number</th>\n",
       "      <th>Transaction_Date</th>\n",
       "      <th>Transaction_Time</th>\n",
       "      <th>Store_Number</th>\n",
       "      <th>Customer_ID</th>\n",
       "      <th>Item_Number</th>\n",
       "      <th>DateTime</th>\n",
       "      <th>DayOfWeek</th>\n",
       "      <th>Hour</th>\n",
       "      <th>Price</th>\n",
       "    </tr>\n",
       "  </thead>\n",
       "  <tbody>\n",
       "    <tr>\n",
       "      <th>0</th>\n",
       "      <td>142292</td>\n",
       "      <td>2024-01-14</td>\n",
       "      <td>00:43:25</td>\n",
       "      <td>STR_7</td>\n",
       "      <td>CUST3706</td>\n",
       "      <td>Item_4</td>\n",
       "      <td>2024-01-14 00:43:25</td>\n",
       "      <td>Sunday</td>\n",
       "      <td>0</td>\n",
       "      <td>5.5</td>\n",
       "    </tr>\n",
       "    <tr>\n",
       "      <th>1</th>\n",
       "      <td>134538</td>\n",
       "      <td>2023-07-22</td>\n",
       "      <td>03:11:53</td>\n",
       "      <td>STR_10</td>\n",
       "      <td>CUST2840</td>\n",
       "      <td>Item_4</td>\n",
       "      <td>2023-07-22 03:11:53</td>\n",
       "      <td>Saturday</td>\n",
       "      <td>3</td>\n",
       "      <td>5.5</td>\n",
       "    </tr>\n",
       "    <tr>\n",
       "      <th>2</th>\n",
       "      <td>105529</td>\n",
       "      <td>2024-06-20</td>\n",
       "      <td>08:51:22</td>\n",
       "      <td>STR_8</td>\n",
       "      <td>CUST1036</td>\n",
       "      <td>Item_4</td>\n",
       "      <td>2024-06-20 08:51:22</td>\n",
       "      <td>Thursday</td>\n",
       "      <td>8</td>\n",
       "      <td>5.5</td>\n",
       "    </tr>\n",
       "    <tr>\n",
       "      <th>3</th>\n",
       "      <td>34280</td>\n",
       "      <td>2024-05-06</td>\n",
       "      <td>17:40:34</td>\n",
       "      <td>STR_5</td>\n",
       "      <td>CUST0994</td>\n",
       "      <td>Item_4</td>\n",
       "      <td>2024-05-06 17:40:34</td>\n",
       "      <td>Monday</td>\n",
       "      <td>17</td>\n",
       "      <td>5.5</td>\n",
       "    </tr>\n",
       "    <tr>\n",
       "      <th>4</th>\n",
       "      <td>118343</td>\n",
       "      <td>2023-11-07</td>\n",
       "      <td>00:32:02</td>\n",
       "      <td>STR_5</td>\n",
       "      <td>CUST2229</td>\n",
       "      <td>Item_4</td>\n",
       "      <td>2023-11-07 00:32:02</td>\n",
       "      <td>Tuesday</td>\n",
       "      <td>0</td>\n",
       "      <td>5.5</td>\n",
       "    </tr>\n",
       "  </tbody>\n",
       "</table>\n",
       "</div>"
      ],
      "text/plain": [
       "   Order_Number Transaction_Date Transaction_Time Store_Number Customer_ID  \\\n",
       "0        142292       2024-01-14         00:43:25        STR_7    CUST3706   \n",
       "1        134538       2023-07-22         03:11:53       STR_10    CUST2840   \n",
       "2        105529       2024-06-20         08:51:22        STR_8    CUST1036   \n",
       "3         34280       2024-05-06         17:40:34        STR_5    CUST0994   \n",
       "4        118343       2023-11-07         00:32:02        STR_5    CUST2229   \n",
       "\n",
       "  Item_Number            DateTime DayOfWeek  Hour  Price  \n",
       "0      Item_4 2024-01-14 00:43:25    Sunday     0    5.5  \n",
       "1      Item_4 2023-07-22 03:11:53  Saturday     3    5.5  \n",
       "2      Item_4 2024-06-20 08:51:22  Thursday     8    5.5  \n",
       "3      Item_4 2024-05-06 17:40:34    Monday    17    5.5  \n",
       "4      Item_4 2023-11-07 00:32:02   Tuesday     0    5.5  "
      ]
     },
     "execution_count": 11,
     "metadata": {},
     "output_type": "execute_result"
    }
   ],
   "source": [
    "transactions_df.head()"
   ]
  },
  {
   "cell_type": "markdown",
   "metadata": {},
   "source": [
    "### Modification 3"
   ]
  },
  {
   "cell_type": "code",
   "execution_count": 12,
   "metadata": {},
   "outputs": [],
   "source": [
    "# Group by day of week and hour, summing the total amount\n",
    "hourly_sales = transactions_df.groupby(['DayOfWeek', 'Hour'])['Price'].sum().reset_index()"
   ]
  },
  {
   "cell_type": "code",
   "execution_count": 13,
   "metadata": {},
   "outputs": [
    {
     "data": {
      "text/html": [
       "<div>\n",
       "<style scoped>\n",
       "    .dataframe tbody tr th:only-of-type {\n",
       "        vertical-align: middle;\n",
       "    }\n",
       "\n",
       "    .dataframe tbody tr th {\n",
       "        vertical-align: top;\n",
       "    }\n",
       "\n",
       "    .dataframe thead th {\n",
       "        text-align: right;\n",
       "    }\n",
       "</style>\n",
       "<table border=\"1\" class=\"dataframe\">\n",
       "  <thead>\n",
       "    <tr style=\"text-align: right;\">\n",
       "      <th></th>\n",
       "      <th>DayOfWeek</th>\n",
       "      <th>Hour</th>\n",
       "      <th>Price</th>\n",
       "    </tr>\n",
       "  </thead>\n",
       "  <tbody>\n",
       "    <tr>\n",
       "      <th>0</th>\n",
       "      <td>Friday</td>\n",
       "      <td>0</td>\n",
       "      <td>9743.0</td>\n",
       "    </tr>\n",
       "    <tr>\n",
       "      <th>1</th>\n",
       "      <td>Friday</td>\n",
       "      <td>1</td>\n",
       "      <td>8733.5</td>\n",
       "    </tr>\n",
       "    <tr>\n",
       "      <th>2</th>\n",
       "      <td>Friday</td>\n",
       "      <td>2</td>\n",
       "      <td>8959.5</td>\n",
       "    </tr>\n",
       "    <tr>\n",
       "      <th>3</th>\n",
       "      <td>Friday</td>\n",
       "      <td>3</td>\n",
       "      <td>9237.0</td>\n",
       "    </tr>\n",
       "    <tr>\n",
       "      <th>4</th>\n",
       "      <td>Friday</td>\n",
       "      <td>4</td>\n",
       "      <td>9635.5</td>\n",
       "    </tr>\n",
       "  </tbody>\n",
       "</table>\n",
       "</div>"
      ],
      "text/plain": [
       "  DayOfWeek  Hour   Price\n",
       "0    Friday     0  9743.0\n",
       "1    Friday     1  8733.5\n",
       "2    Friday     2  8959.5\n",
       "3    Friday     3  9237.0\n",
       "4    Friday     4  9635.5"
      ]
     },
     "execution_count": 13,
     "metadata": {},
     "output_type": "execute_result"
    }
   ],
   "source": [
    "hourly_sales.head()"
   ]
  },
  {
   "cell_type": "markdown",
   "metadata": {},
   "source": [
    "### Modification 4"
   ]
  },
  {
   "cell_type": "code",
   "execution_count": 16,
   "metadata": {},
   "outputs": [],
   "source": [
    "# Create a pivot table\n",
    "pivot_table = hourly_sales.pivot(index='Hour', columns='DayOfWeek', values='Price')\n",
    "# Fill NaN values with 0\n",
    "pivot_table = pivot_table.fillna(0)"
   ]
  },
  {
   "cell_type": "code",
   "execution_count": 17,
   "metadata": {},
   "outputs": [
    {
     "data": {
      "text/html": [
       "<div>\n",
       "<style scoped>\n",
       "    .dataframe tbody tr th:only-of-type {\n",
       "        vertical-align: middle;\n",
       "    }\n",
       "\n",
       "    .dataframe tbody tr th {\n",
       "        vertical-align: top;\n",
       "    }\n",
       "\n",
       "    .dataframe thead th {\n",
       "        text-align: right;\n",
       "    }\n",
       "</style>\n",
       "<table border=\"1\" class=\"dataframe\">\n",
       "  <thead>\n",
       "    <tr style=\"text-align: right;\">\n",
       "      <th>DayOfWeek</th>\n",
       "      <th>Friday</th>\n",
       "      <th>Monday</th>\n",
       "      <th>Saturday</th>\n",
       "      <th>Sunday</th>\n",
       "      <th>Thursday</th>\n",
       "      <th>Tuesday</th>\n",
       "      <th>Wednesday</th>\n",
       "    </tr>\n",
       "    <tr>\n",
       "      <th>Hour</th>\n",
       "      <th></th>\n",
       "      <th></th>\n",
       "      <th></th>\n",
       "      <th></th>\n",
       "      <th></th>\n",
       "      <th></th>\n",
       "      <th></th>\n",
       "    </tr>\n",
       "  </thead>\n",
       "  <tbody>\n",
       "    <tr>\n",
       "      <th>0</th>\n",
       "      <td>9743.0</td>\n",
       "      <td>9516.5</td>\n",
       "      <td>8476.0</td>\n",
       "      <td>9284.5</td>\n",
       "      <td>9870.0</td>\n",
       "      <td>8796.0</td>\n",
       "      <td>9327.5</td>\n",
       "    </tr>\n",
       "    <tr>\n",
       "      <th>1</th>\n",
       "      <td>8733.5</td>\n",
       "      <td>9315.5</td>\n",
       "      <td>8810.5</td>\n",
       "      <td>9263.0</td>\n",
       "      <td>9050.0</td>\n",
       "      <td>9697.0</td>\n",
       "      <td>9566.5</td>\n",
       "    </tr>\n",
       "    <tr>\n",
       "      <th>2</th>\n",
       "      <td>8959.5</td>\n",
       "      <td>9877.5</td>\n",
       "      <td>9561.0</td>\n",
       "      <td>9531.5</td>\n",
       "      <td>9612.0</td>\n",
       "      <td>8525.5</td>\n",
       "      <td>9575.0</td>\n",
       "    </tr>\n",
       "    <tr>\n",
       "      <th>3</th>\n",
       "      <td>9237.0</td>\n",
       "      <td>8933.0</td>\n",
       "      <td>9295.0</td>\n",
       "      <td>9044.0</td>\n",
       "      <td>10196.0</td>\n",
       "      <td>9918.5</td>\n",
       "      <td>9085.5</td>\n",
       "    </tr>\n",
       "    <tr>\n",
       "      <th>4</th>\n",
       "      <td>9635.5</td>\n",
       "      <td>9304.5</td>\n",
       "      <td>8702.0</td>\n",
       "      <td>8413.0</td>\n",
       "      <td>9104.5</td>\n",
       "      <td>8495.0</td>\n",
       "      <td>8298.5</td>\n",
       "    </tr>\n",
       "    <tr>\n",
       "      <th>5</th>\n",
       "      <td>9205.5</td>\n",
       "      <td>9226.5</td>\n",
       "      <td>9551.0</td>\n",
       "      <td>9830.0</td>\n",
       "      <td>9013.5</td>\n",
       "      <td>9524.5</td>\n",
       "      <td>9784.5</td>\n",
       "    </tr>\n",
       "    <tr>\n",
       "      <th>6</th>\n",
       "      <td>9266.0</td>\n",
       "      <td>9261.0</td>\n",
       "      <td>9157.5</td>\n",
       "      <td>9722.5</td>\n",
       "      <td>9106.0</td>\n",
       "      <td>8532.5</td>\n",
       "      <td>8573.5</td>\n",
       "    </tr>\n",
       "    <tr>\n",
       "      <th>7</th>\n",
       "      <td>9695.0</td>\n",
       "      <td>9258.5</td>\n",
       "      <td>9575.0</td>\n",
       "      <td>9015.5</td>\n",
       "      <td>8661.0</td>\n",
       "      <td>9482.5</td>\n",
       "      <td>9152.0</td>\n",
       "    </tr>\n",
       "    <tr>\n",
       "      <th>8</th>\n",
       "      <td>10793.0</td>\n",
       "      <td>9388.5</td>\n",
       "      <td>9000.5</td>\n",
       "      <td>9418.5</td>\n",
       "      <td>9567.0</td>\n",
       "      <td>8764.5</td>\n",
       "      <td>9309.0</td>\n",
       "    </tr>\n",
       "    <tr>\n",
       "      <th>9</th>\n",
       "      <td>8943.0</td>\n",
       "      <td>8935.5</td>\n",
       "      <td>9463.0</td>\n",
       "      <td>9122.5</td>\n",
       "      <td>10006.0</td>\n",
       "      <td>9170.0</td>\n",
       "      <td>9567.5</td>\n",
       "    </tr>\n",
       "    <tr>\n",
       "      <th>10</th>\n",
       "      <td>8770.0</td>\n",
       "      <td>8949.0</td>\n",
       "      <td>9231.5</td>\n",
       "      <td>9598.0</td>\n",
       "      <td>9823.0</td>\n",
       "      <td>8672.5</td>\n",
       "      <td>9089.0</td>\n",
       "    </tr>\n",
       "    <tr>\n",
       "      <th>11</th>\n",
       "      <td>9114.5</td>\n",
       "      <td>9416.0</td>\n",
       "      <td>9347.5</td>\n",
       "      <td>9182.5</td>\n",
       "      <td>8732.5</td>\n",
       "      <td>9182.5</td>\n",
       "      <td>9767.0</td>\n",
       "    </tr>\n",
       "    <tr>\n",
       "      <th>12</th>\n",
       "      <td>9308.5</td>\n",
       "      <td>8883.5</td>\n",
       "      <td>9934.5</td>\n",
       "      <td>10182.5</td>\n",
       "      <td>8705.0</td>\n",
       "      <td>8627.5</td>\n",
       "      <td>9984.0</td>\n",
       "    </tr>\n",
       "    <tr>\n",
       "      <th>13</th>\n",
       "      <td>9076.5</td>\n",
       "      <td>8652.5</td>\n",
       "      <td>10103.5</td>\n",
       "      <td>8967.5</td>\n",
       "      <td>8779.0</td>\n",
       "      <td>10190.0</td>\n",
       "      <td>9930.0</td>\n",
       "    </tr>\n",
       "    <tr>\n",
       "      <th>14</th>\n",
       "      <td>9285.0</td>\n",
       "      <td>10020.5</td>\n",
       "      <td>8419.5</td>\n",
       "      <td>9384.5</td>\n",
       "      <td>9711.0</td>\n",
       "      <td>9559.5</td>\n",
       "      <td>10024.5</td>\n",
       "    </tr>\n",
       "    <tr>\n",
       "      <th>15</th>\n",
       "      <td>9652.0</td>\n",
       "      <td>9711.0</td>\n",
       "      <td>9213.5</td>\n",
       "      <td>9213.0</td>\n",
       "      <td>9642.0</td>\n",
       "      <td>9119.5</td>\n",
       "      <td>9623.0</td>\n",
       "    </tr>\n",
       "    <tr>\n",
       "      <th>16</th>\n",
       "      <td>9633.5</td>\n",
       "      <td>9116.0</td>\n",
       "      <td>9569.0</td>\n",
       "      <td>8531.5</td>\n",
       "      <td>8677.0</td>\n",
       "      <td>9447.5</td>\n",
       "      <td>9331.5</td>\n",
       "    </tr>\n",
       "    <tr>\n",
       "      <th>17</th>\n",
       "      <td>8972.0</td>\n",
       "      <td>8909.5</td>\n",
       "      <td>8039.5</td>\n",
       "      <td>10213.0</td>\n",
       "      <td>10069.0</td>\n",
       "      <td>8620.0</td>\n",
       "      <td>9422.5</td>\n",
       "    </tr>\n",
       "    <tr>\n",
       "      <th>18</th>\n",
       "      <td>9473.5</td>\n",
       "      <td>9175.0</td>\n",
       "      <td>9880.0</td>\n",
       "      <td>10141.5</td>\n",
       "      <td>9327.5</td>\n",
       "      <td>9521.0</td>\n",
       "      <td>9533.5</td>\n",
       "    </tr>\n",
       "    <tr>\n",
       "      <th>19</th>\n",
       "      <td>9726.5</td>\n",
       "      <td>9362.0</td>\n",
       "      <td>9076.0</td>\n",
       "      <td>9082.5</td>\n",
       "      <td>9344.5</td>\n",
       "      <td>8848.5</td>\n",
       "      <td>9134.0</td>\n",
       "    </tr>\n",
       "    <tr>\n",
       "      <th>20</th>\n",
       "      <td>9403.0</td>\n",
       "      <td>9188.0</td>\n",
       "      <td>8814.0</td>\n",
       "      <td>8779.0</td>\n",
       "      <td>9491.0</td>\n",
       "      <td>9085.5</td>\n",
       "      <td>9124.5</td>\n",
       "    </tr>\n",
       "    <tr>\n",
       "      <th>21</th>\n",
       "      <td>9239.5</td>\n",
       "      <td>9317.5</td>\n",
       "      <td>9898.5</td>\n",
       "      <td>9160.0</td>\n",
       "      <td>9127.0</td>\n",
       "      <td>9997.0</td>\n",
       "      <td>9896.5</td>\n",
       "    </tr>\n",
       "    <tr>\n",
       "      <th>22</th>\n",
       "      <td>9453.0</td>\n",
       "      <td>9097.0</td>\n",
       "      <td>9284.0</td>\n",
       "      <td>9233.5</td>\n",
       "      <td>9233.0</td>\n",
       "      <td>9126.0</td>\n",
       "      <td>10108.5</td>\n",
       "    </tr>\n",
       "    <tr>\n",
       "      <th>23</th>\n",
       "      <td>9580.5</td>\n",
       "      <td>8328.0</td>\n",
       "      <td>8617.0</td>\n",
       "      <td>8770.0</td>\n",
       "      <td>9424.0</td>\n",
       "      <td>8969.0</td>\n",
       "      <td>9493.5</td>\n",
       "    </tr>\n",
       "  </tbody>\n",
       "</table>\n",
       "</div>"
      ],
      "text/plain": [
       "DayOfWeek   Friday   Monday  Saturday   Sunday  Thursday  Tuesday  Wednesday\n",
       "Hour                                                                        \n",
       "0           9743.0   9516.5    8476.0   9284.5    9870.0   8796.0     9327.5\n",
       "1           8733.5   9315.5    8810.5   9263.0    9050.0   9697.0     9566.5\n",
       "2           8959.5   9877.5    9561.0   9531.5    9612.0   8525.5     9575.0\n",
       "3           9237.0   8933.0    9295.0   9044.0   10196.0   9918.5     9085.5\n",
       "4           9635.5   9304.5    8702.0   8413.0    9104.5   8495.0     8298.5\n",
       "5           9205.5   9226.5    9551.0   9830.0    9013.5   9524.5     9784.5\n",
       "6           9266.0   9261.0    9157.5   9722.5    9106.0   8532.5     8573.5\n",
       "7           9695.0   9258.5    9575.0   9015.5    8661.0   9482.5     9152.0\n",
       "8          10793.0   9388.5    9000.5   9418.5    9567.0   8764.5     9309.0\n",
       "9           8943.0   8935.5    9463.0   9122.5   10006.0   9170.0     9567.5\n",
       "10          8770.0   8949.0    9231.5   9598.0    9823.0   8672.5     9089.0\n",
       "11          9114.5   9416.0    9347.5   9182.5    8732.5   9182.5     9767.0\n",
       "12          9308.5   8883.5    9934.5  10182.5    8705.0   8627.5     9984.0\n",
       "13          9076.5   8652.5   10103.5   8967.5    8779.0  10190.0     9930.0\n",
       "14          9285.0  10020.5    8419.5   9384.5    9711.0   9559.5    10024.5\n",
       "15          9652.0   9711.0    9213.5   9213.0    9642.0   9119.5     9623.0\n",
       "16          9633.5   9116.0    9569.0   8531.5    8677.0   9447.5     9331.5\n",
       "17          8972.0   8909.5    8039.5  10213.0   10069.0   8620.0     9422.5\n",
       "18          9473.5   9175.0    9880.0  10141.5    9327.5   9521.0     9533.5\n",
       "19          9726.5   9362.0    9076.0   9082.5    9344.5   8848.5     9134.0\n",
       "20          9403.0   9188.0    8814.0   8779.0    9491.0   9085.5     9124.5\n",
       "21          9239.5   9317.5    9898.5   9160.0    9127.0   9997.0     9896.5\n",
       "22          9453.0   9097.0    9284.0   9233.5    9233.0   9126.0    10108.5\n",
       "23          9580.5   8328.0    8617.0   8770.0    9424.0   8969.0     9493.5"
      ]
     },
     "execution_count": 17,
     "metadata": {},
     "output_type": "execute_result"
    }
   ],
   "source": [
    "pivot_table"
   ]
  },
  {
   "cell_type": "markdown",
   "metadata": {},
   "source": [
    "# 12. Hourly Sales Heatmap"
   ]
  },
  {
   "cell_type": "code",
   "execution_count": 18,
   "metadata": {},
   "outputs": [
    {
     "data": {
      "application/vnd.plotly.v1+json": {
       "config": {
        "plotlyServerURL": "https://plot.ly"
       },
       "data": [
        {
         "colorbar": {
          "tickfont": {
           "size": 12
          },
          "title": {
           "font": {
            "size": 14
           },
           "side": "right",
           "text": "Total Sales ($)"
          }
         },
         "colorscale": [
          [
           0,
           "#440154"
          ],
          [
           0.1111111111111111,
           "#482878"
          ],
          [
           0.2222222222222222,
           "#3e4989"
          ],
          [
           0.3333333333333333,
           "#31688e"
          ],
          [
           0.4444444444444444,
           "#26828e"
          ],
          [
           0.5555555555555556,
           "#1f9e89"
          ],
          [
           0.6666666666666666,
           "#35b779"
          ],
          [
           0.7777777777777778,
           "#6ece58"
          ],
          [
           0.8888888888888888,
           "#b5de2b"
          ],
          [
           1,
           "#fde725"
          ]
         ],
         "hovertemplate": "Day: %{x}<br>Hour: %{y}<br>Total Sales: $%{z:.2f}<extra></extra>",
         "type": "heatmap",
         "x": [
          "Monday",
          "Tuesday",
          "Wednesday",
          "Thursday",
          "Friday",
          "Saturday",
          "Sunday"
         ],
         "y": [
          0,
          1,
          2,
          3,
          4,
          5,
          6,
          7,
          8,
          9,
          10,
          11,
          12,
          13,
          14,
          15,
          16,
          17,
          18,
          19,
          20,
          21,
          22,
          23
         ],
         "z": [
          [
           9743,
           9516.5,
           8476,
           9284.5,
           9870,
           8796,
           9327.5
          ],
          [
           8733.5,
           9315.5,
           8810.5,
           9263,
           9050,
           9697,
           9566.5
          ],
          [
           8959.5,
           9877.5,
           9561,
           9531.5,
           9612,
           8525.5,
           9575
          ],
          [
           9237,
           8933,
           9295,
           9044,
           10196,
           9918.5,
           9085.5
          ],
          [
           9635.5,
           9304.5,
           8702,
           8413,
           9104.5,
           8495,
           8298.5
          ],
          [
           9205.5,
           9226.5,
           9551,
           9830,
           9013.5,
           9524.5,
           9784.5
          ],
          [
           9266,
           9261,
           9157.5,
           9722.5,
           9106,
           8532.5,
           8573.5
          ],
          [
           9695,
           9258.5,
           9575,
           9015.5,
           8661,
           9482.5,
           9152
          ],
          [
           10793,
           9388.5,
           9000.5,
           9418.5,
           9567,
           8764.5,
           9309
          ],
          [
           8943,
           8935.5,
           9463,
           9122.5,
           10006,
           9170,
           9567.5
          ],
          [
           8770,
           8949,
           9231.5,
           9598,
           9823,
           8672.5,
           9089
          ],
          [
           9114.5,
           9416,
           9347.5,
           9182.5,
           8732.5,
           9182.5,
           9767
          ],
          [
           9308.5,
           8883.5,
           9934.5,
           10182.5,
           8705,
           8627.5,
           9984
          ],
          [
           9076.5,
           8652.5,
           10103.5,
           8967.5,
           8779,
           10190,
           9930
          ],
          [
           9285,
           10020.5,
           8419.5,
           9384.5,
           9711,
           9559.5,
           10024.5
          ],
          [
           9652,
           9711,
           9213.5,
           9213,
           9642,
           9119.5,
           9623
          ],
          [
           9633.5,
           9116,
           9569,
           8531.5,
           8677,
           9447.5,
           9331.5
          ],
          [
           8972,
           8909.5,
           8039.5,
           10213,
           10069,
           8620,
           9422.5
          ],
          [
           9473.5,
           9175,
           9880,
           10141.5,
           9327.5,
           9521,
           9533.5
          ],
          [
           9726.5,
           9362,
           9076,
           9082.5,
           9344.5,
           8848.5,
           9134
          ],
          [
           9403,
           9188,
           8814,
           8779,
           9491,
           9085.5,
           9124.5
          ],
          [
           9239.5,
           9317.5,
           9898.5,
           9160,
           9127,
           9997,
           9896.5
          ],
          [
           9453,
           9097,
           9284,
           9233.5,
           9233,
           9126,
           10108.5
          ],
          [
           9580.5,
           8328,
           8617,
           8770,
           9424,
           8969,
           9493.5
          ]
         ]
        }
       ],
       "layout": {
        "annotations": [
         {
          "arrowcolor": "#636363",
          "arrowhead": 2,
          "arrowsize": 1,
          "arrowwidth": 2,
          "showarrow": true,
          "text": "Peak Hour",
          "x": "Wednesday",
          "y": 18
         }
        ],
        "template": {
         "data": {
          "bar": [
           {
            "error_x": {
             "color": "#2a3f5f"
            },
            "error_y": {
             "color": "#2a3f5f"
            },
            "marker": {
             "line": {
              "color": "#E5ECF6",
              "width": 0.5
             },
             "pattern": {
              "fillmode": "overlay",
              "size": 10,
              "solidity": 0.2
             }
            },
            "type": "bar"
           }
          ],
          "barpolar": [
           {
            "marker": {
             "line": {
              "color": "#E5ECF6",
              "width": 0.5
             },
             "pattern": {
              "fillmode": "overlay",
              "size": 10,
              "solidity": 0.2
             }
            },
            "type": "barpolar"
           }
          ],
          "carpet": [
           {
            "aaxis": {
             "endlinecolor": "#2a3f5f",
             "gridcolor": "white",
             "linecolor": "white",
             "minorgridcolor": "white",
             "startlinecolor": "#2a3f5f"
            },
            "baxis": {
             "endlinecolor": "#2a3f5f",
             "gridcolor": "white",
             "linecolor": "white",
             "minorgridcolor": "white",
             "startlinecolor": "#2a3f5f"
            },
            "type": "carpet"
           }
          ],
          "choropleth": [
           {
            "colorbar": {
             "outlinewidth": 0,
             "ticks": ""
            },
            "type": "choropleth"
           }
          ],
          "contour": [
           {
            "colorbar": {
             "outlinewidth": 0,
             "ticks": ""
            },
            "colorscale": [
             [
              0,
              "#0d0887"
             ],
             [
              0.1111111111111111,
              "#46039f"
             ],
             [
              0.2222222222222222,
              "#7201a8"
             ],
             [
              0.3333333333333333,
              "#9c179e"
             ],
             [
              0.4444444444444444,
              "#bd3786"
             ],
             [
              0.5555555555555556,
              "#d8576b"
             ],
             [
              0.6666666666666666,
              "#ed7953"
             ],
             [
              0.7777777777777778,
              "#fb9f3a"
             ],
             [
              0.8888888888888888,
              "#fdca26"
             ],
             [
              1,
              "#f0f921"
             ]
            ],
            "type": "contour"
           }
          ],
          "contourcarpet": [
           {
            "colorbar": {
             "outlinewidth": 0,
             "ticks": ""
            },
            "type": "contourcarpet"
           }
          ],
          "heatmap": [
           {
            "colorbar": {
             "outlinewidth": 0,
             "ticks": ""
            },
            "colorscale": [
             [
              0,
              "#0d0887"
             ],
             [
              0.1111111111111111,
              "#46039f"
             ],
             [
              0.2222222222222222,
              "#7201a8"
             ],
             [
              0.3333333333333333,
              "#9c179e"
             ],
             [
              0.4444444444444444,
              "#bd3786"
             ],
             [
              0.5555555555555556,
              "#d8576b"
             ],
             [
              0.6666666666666666,
              "#ed7953"
             ],
             [
              0.7777777777777778,
              "#fb9f3a"
             ],
             [
              0.8888888888888888,
              "#fdca26"
             ],
             [
              1,
              "#f0f921"
             ]
            ],
            "type": "heatmap"
           }
          ],
          "heatmapgl": [
           {
            "colorbar": {
             "outlinewidth": 0,
             "ticks": ""
            },
            "colorscale": [
             [
              0,
              "#0d0887"
             ],
             [
              0.1111111111111111,
              "#46039f"
             ],
             [
              0.2222222222222222,
              "#7201a8"
             ],
             [
              0.3333333333333333,
              "#9c179e"
             ],
             [
              0.4444444444444444,
              "#bd3786"
             ],
             [
              0.5555555555555556,
              "#d8576b"
             ],
             [
              0.6666666666666666,
              "#ed7953"
             ],
             [
              0.7777777777777778,
              "#fb9f3a"
             ],
             [
              0.8888888888888888,
              "#fdca26"
             ],
             [
              1,
              "#f0f921"
             ]
            ],
            "type": "heatmapgl"
           }
          ],
          "histogram": [
           {
            "marker": {
             "pattern": {
              "fillmode": "overlay",
              "size": 10,
              "solidity": 0.2
             }
            },
            "type": "histogram"
           }
          ],
          "histogram2d": [
           {
            "colorbar": {
             "outlinewidth": 0,
             "ticks": ""
            },
            "colorscale": [
             [
              0,
              "#0d0887"
             ],
             [
              0.1111111111111111,
              "#46039f"
             ],
             [
              0.2222222222222222,
              "#7201a8"
             ],
             [
              0.3333333333333333,
              "#9c179e"
             ],
             [
              0.4444444444444444,
              "#bd3786"
             ],
             [
              0.5555555555555556,
              "#d8576b"
             ],
             [
              0.6666666666666666,
              "#ed7953"
             ],
             [
              0.7777777777777778,
              "#fb9f3a"
             ],
             [
              0.8888888888888888,
              "#fdca26"
             ],
             [
              1,
              "#f0f921"
             ]
            ],
            "type": "histogram2d"
           }
          ],
          "histogram2dcontour": [
           {
            "colorbar": {
             "outlinewidth": 0,
             "ticks": ""
            },
            "colorscale": [
             [
              0,
              "#0d0887"
             ],
             [
              0.1111111111111111,
              "#46039f"
             ],
             [
              0.2222222222222222,
              "#7201a8"
             ],
             [
              0.3333333333333333,
              "#9c179e"
             ],
             [
              0.4444444444444444,
              "#bd3786"
             ],
             [
              0.5555555555555556,
              "#d8576b"
             ],
             [
              0.6666666666666666,
              "#ed7953"
             ],
             [
              0.7777777777777778,
              "#fb9f3a"
             ],
             [
              0.8888888888888888,
              "#fdca26"
             ],
             [
              1,
              "#f0f921"
             ]
            ],
            "type": "histogram2dcontour"
           }
          ],
          "mesh3d": [
           {
            "colorbar": {
             "outlinewidth": 0,
             "ticks": ""
            },
            "type": "mesh3d"
           }
          ],
          "parcoords": [
           {
            "line": {
             "colorbar": {
              "outlinewidth": 0,
              "ticks": ""
             }
            },
            "type": "parcoords"
           }
          ],
          "pie": [
           {
            "automargin": true,
            "type": "pie"
           }
          ],
          "scatter": [
           {
            "fillpattern": {
             "fillmode": "overlay",
             "size": 10,
             "solidity": 0.2
            },
            "type": "scatter"
           }
          ],
          "scatter3d": [
           {
            "line": {
             "colorbar": {
              "outlinewidth": 0,
              "ticks": ""
             }
            },
            "marker": {
             "colorbar": {
              "outlinewidth": 0,
              "ticks": ""
             }
            },
            "type": "scatter3d"
           }
          ],
          "scattercarpet": [
           {
            "marker": {
             "colorbar": {
              "outlinewidth": 0,
              "ticks": ""
             }
            },
            "type": "scattercarpet"
           }
          ],
          "scattergeo": [
           {
            "marker": {
             "colorbar": {
              "outlinewidth": 0,
              "ticks": ""
             }
            },
            "type": "scattergeo"
           }
          ],
          "scattergl": [
           {
            "marker": {
             "colorbar": {
              "outlinewidth": 0,
              "ticks": ""
             }
            },
            "type": "scattergl"
           }
          ],
          "scattermapbox": [
           {
            "marker": {
             "colorbar": {
              "outlinewidth": 0,
              "ticks": ""
             }
            },
            "type": "scattermapbox"
           }
          ],
          "scatterpolar": [
           {
            "marker": {
             "colorbar": {
              "outlinewidth": 0,
              "ticks": ""
             }
            },
            "type": "scatterpolar"
           }
          ],
          "scatterpolargl": [
           {
            "marker": {
             "colorbar": {
              "outlinewidth": 0,
              "ticks": ""
             }
            },
            "type": "scatterpolargl"
           }
          ],
          "scatterternary": [
           {
            "marker": {
             "colorbar": {
              "outlinewidth": 0,
              "ticks": ""
             }
            },
            "type": "scatterternary"
           }
          ],
          "surface": [
           {
            "colorbar": {
             "outlinewidth": 0,
             "ticks": ""
            },
            "colorscale": [
             [
              0,
              "#0d0887"
             ],
             [
              0.1111111111111111,
              "#46039f"
             ],
             [
              0.2222222222222222,
              "#7201a8"
             ],
             [
              0.3333333333333333,
              "#9c179e"
             ],
             [
              0.4444444444444444,
              "#bd3786"
             ],
             [
              0.5555555555555556,
              "#d8576b"
             ],
             [
              0.6666666666666666,
              "#ed7953"
             ],
             [
              0.7777777777777778,
              "#fb9f3a"
             ],
             [
              0.8888888888888888,
              "#fdca26"
             ],
             [
              1,
              "#f0f921"
             ]
            ],
            "type": "surface"
           }
          ],
          "table": [
           {
            "cells": {
             "fill": {
              "color": "#EBF0F8"
             },
             "line": {
              "color": "white"
             }
            },
            "header": {
             "fill": {
              "color": "#C8D4E3"
             },
             "line": {
              "color": "white"
             }
            },
            "type": "table"
           }
          ]
         },
         "layout": {
          "annotationdefaults": {
           "arrowcolor": "#2a3f5f",
           "arrowhead": 0,
           "arrowwidth": 1
          },
          "autotypenumbers": "strict",
          "coloraxis": {
           "colorbar": {
            "outlinewidth": 0,
            "ticks": ""
           }
          },
          "colorscale": {
           "diverging": [
            [
             0,
             "#8e0152"
            ],
            [
             0.1,
             "#c51b7d"
            ],
            [
             0.2,
             "#de77ae"
            ],
            [
             0.3,
             "#f1b6da"
            ],
            [
             0.4,
             "#fde0ef"
            ],
            [
             0.5,
             "#f7f7f7"
            ],
            [
             0.6,
             "#e6f5d0"
            ],
            [
             0.7,
             "#b8e186"
            ],
            [
             0.8,
             "#7fbc41"
            ],
            [
             0.9,
             "#4d9221"
            ],
            [
             1,
             "#276419"
            ]
           ],
           "sequential": [
            [
             0,
             "#0d0887"
            ],
            [
             0.1111111111111111,
             "#46039f"
            ],
            [
             0.2222222222222222,
             "#7201a8"
            ],
            [
             0.3333333333333333,
             "#9c179e"
            ],
            [
             0.4444444444444444,
             "#bd3786"
            ],
            [
             0.5555555555555556,
             "#d8576b"
            ],
            [
             0.6666666666666666,
             "#ed7953"
            ],
            [
             0.7777777777777778,
             "#fb9f3a"
            ],
            [
             0.8888888888888888,
             "#fdca26"
            ],
            [
             1,
             "#f0f921"
            ]
           ],
           "sequentialminus": [
            [
             0,
             "#0d0887"
            ],
            [
             0.1111111111111111,
             "#46039f"
            ],
            [
             0.2222222222222222,
             "#7201a8"
            ],
            [
             0.3333333333333333,
             "#9c179e"
            ],
            [
             0.4444444444444444,
             "#bd3786"
            ],
            [
             0.5555555555555556,
             "#d8576b"
            ],
            [
             0.6666666666666666,
             "#ed7953"
            ],
            [
             0.7777777777777778,
             "#fb9f3a"
            ],
            [
             0.8888888888888888,
             "#fdca26"
            ],
            [
             1,
             "#f0f921"
            ]
           ]
          },
          "colorway": [
           "#636efa",
           "#EF553B",
           "#00cc96",
           "#ab63fa",
           "#FFA15A",
           "#19d3f3",
           "#FF6692",
           "#B6E880",
           "#FF97FF",
           "#FECB52"
          ],
          "font": {
           "color": "#2a3f5f"
          },
          "geo": {
           "bgcolor": "white",
           "lakecolor": "white",
           "landcolor": "#E5ECF6",
           "showlakes": true,
           "showland": true,
           "subunitcolor": "white"
          },
          "hoverlabel": {
           "align": "left"
          },
          "hovermode": "closest",
          "mapbox": {
           "style": "light"
          },
          "paper_bgcolor": "white",
          "plot_bgcolor": "#E5ECF6",
          "polar": {
           "angularaxis": {
            "gridcolor": "white",
            "linecolor": "white",
            "ticks": ""
           },
           "bgcolor": "#E5ECF6",
           "radialaxis": {
            "gridcolor": "white",
            "linecolor": "white",
            "ticks": ""
           }
          },
          "scene": {
           "xaxis": {
            "backgroundcolor": "#E5ECF6",
            "gridcolor": "white",
            "gridwidth": 2,
            "linecolor": "white",
            "showbackground": true,
            "ticks": "",
            "zerolinecolor": "white"
           },
           "yaxis": {
            "backgroundcolor": "#E5ECF6",
            "gridcolor": "white",
            "gridwidth": 2,
            "linecolor": "white",
            "showbackground": true,
            "ticks": "",
            "zerolinecolor": "white"
           },
           "zaxis": {
            "backgroundcolor": "#E5ECF6",
            "gridcolor": "white",
            "gridwidth": 2,
            "linecolor": "white",
            "showbackground": true,
            "ticks": "",
            "zerolinecolor": "white"
           }
          },
          "shapedefaults": {
           "line": {
            "color": "#2a3f5f"
           }
          },
          "ternary": {
           "aaxis": {
            "gridcolor": "white",
            "linecolor": "white",
            "ticks": ""
           },
           "baxis": {
            "gridcolor": "white",
            "linecolor": "white",
            "ticks": ""
           },
           "bgcolor": "#E5ECF6",
           "caxis": {
            "gridcolor": "white",
            "linecolor": "white",
            "ticks": ""
           }
          },
          "title": {
           "x": 0.05
          },
          "xaxis": {
           "automargin": true,
           "gridcolor": "white",
           "linecolor": "white",
           "ticks": "",
           "title": {
            "standoff": 15
           },
           "zerolinecolor": "white",
           "zerolinewidth": 2
          },
          "yaxis": {
           "automargin": true,
           "gridcolor": "white",
           "linecolor": "white",
           "ticks": "",
           "title": {
            "standoff": 15
           },
           "zerolinecolor": "white",
           "zerolinewidth": 2
          }
         }
        },
        "title": {
         "text": "Hourly Sales Heatmap"
        },
        "xaxis": {
         "title": {
          "text": "Day of Week"
         }
        },
        "yaxis": {
         "tickmode": "array",
         "ticktext": [
          "00:00",
          "01:00",
          "02:00",
          "03:00",
          "04:00",
          "05:00",
          "06:00",
          "07:00",
          "08:00",
          "09:00",
          "10:00",
          "11:00",
          "12:00",
          "13:00",
          "14:00",
          "15:00",
          "16:00",
          "17:00",
          "18:00",
          "19:00",
          "20:00",
          "21:00",
          "22:00",
          "23:00"
         ],
         "tickvals": [
          0,
          1,
          2,
          3,
          4,
          5,
          6,
          7,
          8,
          9,
          10,
          11,
          12,
          13,
          14,
          15,
          16,
          17,
          18,
          19,
          20,
          21,
          22,
          23
         ],
         "title": {
          "text": "Hour of Day"
         }
        }
       }
      }
     },
     "metadata": {},
     "output_type": "display_data"
    }
   ],
   "source": [
    "# Create the heatmap\n",
    "fig = go.Figure(data=go.Heatmap(\n",
    "    z=pivot_table.values,\n",
    "    x=['Monday', 'Tuesday', 'Wednesday', 'Thursday', 'Friday', 'Saturday', 'Sunday'],\n",
    "    y=pivot_table.index,\n",
    "    colorscale='Viridis',\n",
    "    hovertemplate='Day: %{x}<br>Hour: %{y}<br>Total Sales: $%{z:.2f}<extra></extra>'\n",
    "))\n",
    "\n",
    "# Update layout\n",
    "fig.update_layout(\n",
    "    title='Hourly Sales Heatmap',\n",
    "    xaxis_title='Day of Week',\n",
    "    yaxis_title='Hour of Day',\n",
    "    yaxis = dict(\n",
    "        tickmode = 'array',\n",
    "        tickvals = list(range(24)),\n",
    "        ticktext = [f'{i:02d}:00' for i in range(24)]\n",
    "    )\n",
    ")\n",
    "\n",
    "# Add annotations for peak hours\n",
    "peak_hour = pivot_table.mean(axis=1).idxmax()\n",
    "peak_day = pivot_table.mean(axis=0).idxmax()\n",
    "\n",
    "fig.add_annotation(\n",
    "    x=peak_day,\n",
    "    y=peak_hour,\n",
    "    text=\"Peak Hour\",\n",
    "    showarrow=True,\n",
    "    arrowhead=2,\n",
    "    arrowsize=1,\n",
    "    arrowwidth=2,\n",
    "    arrowcolor=\"#636363\"\n",
    ")\n",
    "\n",
    "# Add a color bar\n",
    "fig.update_traces(colorbar=dict(\n",
    "    title=\"Total Sales ($)\",\n",
    "    titleside=\"right\",\n",
    "    titlefont=dict(size=14),\n",
    "    tickfont=dict(size=12),\n",
    "))\n",
    "\n",
    "fig.show()"
   ]
  },
  {
   "cell_type": "code",
   "execution_count": null,
   "metadata": {},
   "outputs": [],
   "source": []
  }
 ],
 "metadata": {
  "kernelspec": {
   "display_name": "Python_NN",
   "language": "python",
   "name": "python3"
  },
  "language_info": {
   "codemirror_mode": {
    "name": "ipython",
    "version": 3
   },
   "file_extension": ".py",
   "mimetype": "text/x-python",
   "name": "python",
   "nbconvert_exporter": "python",
   "pygments_lexer": "ipython3",
   "version": "3.11.5"
  }
 },
 "nbformat": 4,
 "nbformat_minor": 2
}

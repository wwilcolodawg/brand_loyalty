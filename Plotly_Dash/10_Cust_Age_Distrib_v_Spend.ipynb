{
 "cells": [
  {
   "cell_type": "code",
   "execution_count": 19,
   "metadata": {},
   "outputs": [],
   "source": [
    "import os\n",
    "import pandas as pd\n",
    "import numpy as np\n",
    "import seaborn as sns\n",
    "import matplotlib.pyplot as plt\n",
    "from ipywidgets import widgets, interact, Dropdown, fixed\n",
    "from IPython.display import display\n",
    "import plotly.express as px\n",
    "from datetime import datetime\n",
    "import plotly.graph_objects as go"
   ]
  },
  {
   "cell_type": "code",
   "execution_count": 20,
   "metadata": {},
   "outputs": [],
   "source": [
    "# Path to go up one level from the current folder to the parent folder\n",
    "parent_path = os.path.join(os.getcwd(), '..')\n",
    "\n",
    "# Path to the target data folder\n",
    "data_folder_path = os.path.join(parent_path, 'Data')"
   ]
  },
  {
   "cell_type": "code",
   "execution_count": 21,
   "metadata": {},
   "outputs": [],
   "source": [
    "menu_df = pd.read_csv(os.path.join(data_folder_path, 'menu_analysis.csv'))\n",
    "customers_df = pd.read_csv(os.path.join(data_folder_path, 'customers.csv'))\n",
    "stores_df = pd.read_csv(os.path.join(data_folder_path, 'stores.csv'))\n",
    "structure_df = pd.read_csv(os.path.join(data_folder_path, 'structure.csv'))\n",
    "size_df = pd.read_csv(os.path.join(data_folder_path, 'order_size.csv'))\n",
    "transactions_df = pd.read_csv(\n",
    "        os.path.join(data_folder_path, \"transactions.csv\"),\n",
    "        parse_dates=['Transaction_Date']  # Modify as needed if format issues arise\n",
    "    )"
   ]
  },
  {
   "cell_type": "code",
   "execution_count": 22,
   "metadata": {},
   "outputs": [
    {
     "data": {
      "text/html": [
       "<div>\n",
       "<style scoped>\n",
       "    .dataframe tbody tr th:only-of-type {\n",
       "        vertical-align: middle;\n",
       "    }\n",
       "\n",
       "    .dataframe tbody tr th {\n",
       "        vertical-align: top;\n",
       "    }\n",
       "\n",
       "    .dataframe thead th {\n",
       "        text-align: right;\n",
       "    }\n",
       "</style>\n",
       "<table border=\"1\" class=\"dataframe\">\n",
       "  <thead>\n",
       "    <tr style=\"text-align: right;\">\n",
       "      <th></th>\n",
       "      <th>Customer_ID</th>\n",
       "      <th>First_Name</th>\n",
       "      <th>Last_Name</th>\n",
       "      <th>Email</th>\n",
       "      <th>Phone</th>\n",
       "      <th>DOB</th>\n",
       "      <th>Gender</th>\n",
       "      <th>Address</th>\n",
       "      <th>City</th>\n",
       "      <th>ST</th>\n",
       "      <th>Zip_Code</th>\n",
       "      <th>Member_Since</th>\n",
       "      <th>Newsletter_Subscription</th>\n",
       "      <th>Feedback_Provided</th>\n",
       "      <th>Communication_Preferences</th>\n",
       "      <th>Data_Sharing_Consent</th>\n",
       "    </tr>\n",
       "  </thead>\n",
       "  <tbody>\n",
       "    <tr>\n",
       "      <th>0</th>\n",
       "      <td>CUST0000</td>\n",
       "      <td>Sheila</td>\n",
       "      <td>Garcia</td>\n",
       "      <td>perryamy@example.org</td>\n",
       "      <td>691-567-7618x9089</td>\n",
       "      <td>1994-09-15</td>\n",
       "      <td>Other</td>\n",
       "      <td>10471 Vasquez Squares</td>\n",
       "      <td>Johnhaven</td>\n",
       "      <td>MN</td>\n",
       "      <td>55718</td>\n",
       "      <td>2021-04-01</td>\n",
       "      <td>True</td>\n",
       "      <td>True</td>\n",
       "      <td>Email</td>\n",
       "      <td>True</td>\n",
       "    </tr>\n",
       "    <tr>\n",
       "      <th>1</th>\n",
       "      <td>CUST0001</td>\n",
       "      <td>Matthew</td>\n",
       "      <td>Simpson</td>\n",
       "      <td>uwalls@example.net</td>\n",
       "      <td>001-857-509-5186x599</td>\n",
       "      <td>1989-05-01</td>\n",
       "      <td>Male</td>\n",
       "      <td>0220 Vincent Lights Suite 286</td>\n",
       "      <td>Osbornebury</td>\n",
       "      <td>MN</td>\n",
       "      <td>55025</td>\n",
       "      <td>2022-04-01</td>\n",
       "      <td>False</td>\n",
       "      <td>True</td>\n",
       "      <td>SMS</td>\n",
       "      <td>True</td>\n",
       "    </tr>\n",
       "    <tr>\n",
       "      <th>2</th>\n",
       "      <td>CUST0002</td>\n",
       "      <td>Michael</td>\n",
       "      <td>Curry</td>\n",
       "      <td>mcoleman@example.com</td>\n",
       "      <td>001-232-634-3256x417</td>\n",
       "      <td>1954-06-27</td>\n",
       "      <td>Male</td>\n",
       "      <td>4884 Casey Valley</td>\n",
       "      <td>Morenoport</td>\n",
       "      <td>MN</td>\n",
       "      <td>55845</td>\n",
       "      <td>2020-06-11</td>\n",
       "      <td>True</td>\n",
       "      <td>True</td>\n",
       "      <td>SMS</td>\n",
       "      <td>True</td>\n",
       "    </tr>\n",
       "    <tr>\n",
       "      <th>3</th>\n",
       "      <td>CUST0003</td>\n",
       "      <td>Tara</td>\n",
       "      <td>Forbes</td>\n",
       "      <td>westdaniel@example.net</td>\n",
       "      <td>+1-237-805-3539x12979</td>\n",
       "      <td>1989-11-12</td>\n",
       "      <td>Other</td>\n",
       "      <td>556 Kevin Forest</td>\n",
       "      <td>Tannerfurt</td>\n",
       "      <td>MN</td>\n",
       "      <td>55465</td>\n",
       "      <td>2020-12-12</td>\n",
       "      <td>False</td>\n",
       "      <td>False</td>\n",
       "      <td>Email</td>\n",
       "      <td>True</td>\n",
       "    </tr>\n",
       "    <tr>\n",
       "      <th>4</th>\n",
       "      <td>CUST0004</td>\n",
       "      <td>Leslie</td>\n",
       "      <td>Lee</td>\n",
       "      <td>amber03@example.net</td>\n",
       "      <td>984.432.7771x47405</td>\n",
       "      <td>1993-05-24</td>\n",
       "      <td>Female</td>\n",
       "      <td>60452 Ferguson Club Apt. 171</td>\n",
       "      <td>Allisonview</td>\n",
       "      <td>MN</td>\n",
       "      <td>55131</td>\n",
       "      <td>2022-04-27</td>\n",
       "      <td>True</td>\n",
       "      <td>True</td>\n",
       "      <td>NaN</td>\n",
       "      <td>False</td>\n",
       "    </tr>\n",
       "  </tbody>\n",
       "</table>\n",
       "</div>"
      ],
      "text/plain": [
       "  Customer_ID First_Name Last_Name                   Email  \\\n",
       "0    CUST0000     Sheila    Garcia    perryamy@example.org   \n",
       "1    CUST0001    Matthew   Simpson      uwalls@example.net   \n",
       "2    CUST0002    Michael     Curry    mcoleman@example.com   \n",
       "3    CUST0003       Tara    Forbes  westdaniel@example.net   \n",
       "4    CUST0004     Leslie       Lee     amber03@example.net   \n",
       "\n",
       "                   Phone         DOB  Gender                        Address  \\\n",
       "0      691-567-7618x9089  1994-09-15   Other          10471 Vasquez Squares   \n",
       "1   001-857-509-5186x599  1989-05-01    Male  0220 Vincent Lights Suite 286   \n",
       "2   001-232-634-3256x417  1954-06-27    Male              4884 Casey Valley   \n",
       "3  +1-237-805-3539x12979  1989-11-12   Other               556 Kevin Forest   \n",
       "4     984.432.7771x47405  1993-05-24  Female   60452 Ferguson Club Apt. 171   \n",
       "\n",
       "          City  ST  Zip_Code Member_Since  Newsletter_Subscription  \\\n",
       "0    Johnhaven  MN     55718   2021-04-01                     True   \n",
       "1  Osbornebury  MN     55025   2022-04-01                    False   \n",
       "2   Morenoport  MN     55845   2020-06-11                     True   \n",
       "3   Tannerfurt  MN     55465   2020-12-12                    False   \n",
       "4  Allisonview  MN     55131   2022-04-27                     True   \n",
       "\n",
       "   Feedback_Provided Communication_Preferences  Data_Sharing_Consent  \n",
       "0               True                     Email                  True  \n",
       "1               True                       SMS                  True  \n",
       "2               True                       SMS                  True  \n",
       "3              False                     Email                  True  \n",
       "4               True                       NaN                 False  "
      ]
     },
     "execution_count": 22,
     "metadata": {},
     "output_type": "execute_result"
    }
   ],
   "source": [
    "customers_df.head()"
   ]
  },
  {
   "cell_type": "markdown",
   "metadata": {},
   "source": [
    "### Modification 1"
   ]
  },
  {
   "cell_type": "code",
   "execution_count": 23,
   "metadata": {},
   "outputs": [],
   "source": [
    "# Assume customers_df is already loaded and 'DOB' column exists\n",
    "current_date = datetime.now()\n",
    "customers_df['DOB'] = pd.to_datetime(customers_df['DOB'])\n",
    "\n",
    "# Calculate age\n",
    "customers_df['Age'] = (current_date - customers_df['DOB']) // np.timedelta64(1, 'Y')"
   ]
  },
  {
   "cell_type": "code",
   "execution_count": 24,
   "metadata": {},
   "outputs": [
    {
     "data": {
      "text/html": [
       "<div>\n",
       "<style scoped>\n",
       "    .dataframe tbody tr th:only-of-type {\n",
       "        vertical-align: middle;\n",
       "    }\n",
       "\n",
       "    .dataframe tbody tr th {\n",
       "        vertical-align: top;\n",
       "    }\n",
       "\n",
       "    .dataframe thead th {\n",
       "        text-align: right;\n",
       "    }\n",
       "</style>\n",
       "<table border=\"1\" class=\"dataframe\">\n",
       "  <thead>\n",
       "    <tr style=\"text-align: right;\">\n",
       "      <th></th>\n",
       "      <th>Customer_ID</th>\n",
       "      <th>First_Name</th>\n",
       "      <th>Last_Name</th>\n",
       "      <th>Email</th>\n",
       "      <th>Phone</th>\n",
       "      <th>DOB</th>\n",
       "      <th>Gender</th>\n",
       "      <th>Address</th>\n",
       "      <th>City</th>\n",
       "      <th>ST</th>\n",
       "      <th>Zip_Code</th>\n",
       "      <th>Member_Since</th>\n",
       "      <th>Newsletter_Subscription</th>\n",
       "      <th>Feedback_Provided</th>\n",
       "      <th>Communication_Preferences</th>\n",
       "      <th>Data_Sharing_Consent</th>\n",
       "      <th>Age</th>\n",
       "    </tr>\n",
       "  </thead>\n",
       "  <tbody>\n",
       "    <tr>\n",
       "      <th>0</th>\n",
       "      <td>CUST0000</td>\n",
       "      <td>Sheila</td>\n",
       "      <td>Garcia</td>\n",
       "      <td>perryamy@example.org</td>\n",
       "      <td>691-567-7618x9089</td>\n",
       "      <td>1994-09-15</td>\n",
       "      <td>Other</td>\n",
       "      <td>10471 Vasquez Squares</td>\n",
       "      <td>Johnhaven</td>\n",
       "      <td>MN</td>\n",
       "      <td>55718</td>\n",
       "      <td>2021-04-01</td>\n",
       "      <td>True</td>\n",
       "      <td>True</td>\n",
       "      <td>Email</td>\n",
       "      <td>True</td>\n",
       "      <td>29</td>\n",
       "    </tr>\n",
       "    <tr>\n",
       "      <th>1</th>\n",
       "      <td>CUST0001</td>\n",
       "      <td>Matthew</td>\n",
       "      <td>Simpson</td>\n",
       "      <td>uwalls@example.net</td>\n",
       "      <td>001-857-509-5186x599</td>\n",
       "      <td>1989-05-01</td>\n",
       "      <td>Male</td>\n",
       "      <td>0220 Vincent Lights Suite 286</td>\n",
       "      <td>Osbornebury</td>\n",
       "      <td>MN</td>\n",
       "      <td>55025</td>\n",
       "      <td>2022-04-01</td>\n",
       "      <td>False</td>\n",
       "      <td>True</td>\n",
       "      <td>SMS</td>\n",
       "      <td>True</td>\n",
       "      <td>35</td>\n",
       "    </tr>\n",
       "    <tr>\n",
       "      <th>2</th>\n",
       "      <td>CUST0002</td>\n",
       "      <td>Michael</td>\n",
       "      <td>Curry</td>\n",
       "      <td>mcoleman@example.com</td>\n",
       "      <td>001-232-634-3256x417</td>\n",
       "      <td>1954-06-27</td>\n",
       "      <td>Male</td>\n",
       "      <td>4884 Casey Valley</td>\n",
       "      <td>Morenoport</td>\n",
       "      <td>MN</td>\n",
       "      <td>55845</td>\n",
       "      <td>2020-06-11</td>\n",
       "      <td>True</td>\n",
       "      <td>True</td>\n",
       "      <td>SMS</td>\n",
       "      <td>True</td>\n",
       "      <td>70</td>\n",
       "    </tr>\n",
       "    <tr>\n",
       "      <th>3</th>\n",
       "      <td>CUST0003</td>\n",
       "      <td>Tara</td>\n",
       "      <td>Forbes</td>\n",
       "      <td>westdaniel@example.net</td>\n",
       "      <td>+1-237-805-3539x12979</td>\n",
       "      <td>1989-11-12</td>\n",
       "      <td>Other</td>\n",
       "      <td>556 Kevin Forest</td>\n",
       "      <td>Tannerfurt</td>\n",
       "      <td>MN</td>\n",
       "      <td>55465</td>\n",
       "      <td>2020-12-12</td>\n",
       "      <td>False</td>\n",
       "      <td>False</td>\n",
       "      <td>Email</td>\n",
       "      <td>True</td>\n",
       "      <td>34</td>\n",
       "    </tr>\n",
       "    <tr>\n",
       "      <th>4</th>\n",
       "      <td>CUST0004</td>\n",
       "      <td>Leslie</td>\n",
       "      <td>Lee</td>\n",
       "      <td>amber03@example.net</td>\n",
       "      <td>984.432.7771x47405</td>\n",
       "      <td>1993-05-24</td>\n",
       "      <td>Female</td>\n",
       "      <td>60452 Ferguson Club Apt. 171</td>\n",
       "      <td>Allisonview</td>\n",
       "      <td>MN</td>\n",
       "      <td>55131</td>\n",
       "      <td>2022-04-27</td>\n",
       "      <td>True</td>\n",
       "      <td>True</td>\n",
       "      <td>NaN</td>\n",
       "      <td>False</td>\n",
       "      <td>31</td>\n",
       "    </tr>\n",
       "  </tbody>\n",
       "</table>\n",
       "</div>"
      ],
      "text/plain": [
       "  Customer_ID First_Name Last_Name                   Email  \\\n",
       "0    CUST0000     Sheila    Garcia    perryamy@example.org   \n",
       "1    CUST0001    Matthew   Simpson      uwalls@example.net   \n",
       "2    CUST0002    Michael     Curry    mcoleman@example.com   \n",
       "3    CUST0003       Tara    Forbes  westdaniel@example.net   \n",
       "4    CUST0004     Leslie       Lee     amber03@example.net   \n",
       "\n",
       "                   Phone        DOB  Gender                        Address  \\\n",
       "0      691-567-7618x9089 1994-09-15   Other          10471 Vasquez Squares   \n",
       "1   001-857-509-5186x599 1989-05-01    Male  0220 Vincent Lights Suite 286   \n",
       "2   001-232-634-3256x417 1954-06-27    Male              4884 Casey Valley   \n",
       "3  +1-237-805-3539x12979 1989-11-12   Other               556 Kevin Forest   \n",
       "4     984.432.7771x47405 1993-05-24  Female   60452 Ferguson Club Apt. 171   \n",
       "\n",
       "          City  ST  Zip_Code Member_Since  Newsletter_Subscription  \\\n",
       "0    Johnhaven  MN     55718   2021-04-01                     True   \n",
       "1  Osbornebury  MN     55025   2022-04-01                    False   \n",
       "2   Morenoport  MN     55845   2020-06-11                     True   \n",
       "3   Tannerfurt  MN     55465   2020-12-12                    False   \n",
       "4  Allisonview  MN     55131   2022-04-27                     True   \n",
       "\n",
       "   Feedback_Provided Communication_Preferences  Data_Sharing_Consent  Age  \n",
       "0               True                     Email                  True   29  \n",
       "1               True                       SMS                  True   35  \n",
       "2               True                       SMS                  True   70  \n",
       "3              False                     Email                  True   34  \n",
       "4               True                       NaN                 False   31  "
      ]
     },
     "execution_count": 24,
     "metadata": {},
     "output_type": "execute_result"
    }
   ],
   "source": [
    "customers_df.head()"
   ]
  },
  {
   "cell_type": "markdown",
   "metadata": {},
   "source": [
    "### Modification 2"
   ]
  },
  {
   "cell_type": "code",
   "execution_count": 27,
   "metadata": {},
   "outputs": [],
   "source": [
    "# Merge customer data with transaction data\n",
    "merged_df = pd.merge(transactions_df, menu_df[['Item_Number', 'Price']], on='Item_Number')\n",
    "merged_df = pd.merge(merged_df, customers_df[['Customer_ID', 'Age']], on='Customer_ID')"
   ]
  },
  {
   "cell_type": "code",
   "execution_count": 28,
   "metadata": {},
   "outputs": [
    {
     "data": {
      "text/html": [
       "<div>\n",
       "<style scoped>\n",
       "    .dataframe tbody tr th:only-of-type {\n",
       "        vertical-align: middle;\n",
       "    }\n",
       "\n",
       "    .dataframe tbody tr th {\n",
       "        vertical-align: top;\n",
       "    }\n",
       "\n",
       "    .dataframe thead th {\n",
       "        text-align: right;\n",
       "    }\n",
       "</style>\n",
       "<table border=\"1\" class=\"dataframe\">\n",
       "  <thead>\n",
       "    <tr style=\"text-align: right;\">\n",
       "      <th></th>\n",
       "      <th>Order_Number</th>\n",
       "      <th>Transaction_Date</th>\n",
       "      <th>Transaction_Time</th>\n",
       "      <th>Store_Number</th>\n",
       "      <th>Customer_ID</th>\n",
       "      <th>Item_Number</th>\n",
       "      <th>Price</th>\n",
       "      <th>Age</th>\n",
       "    </tr>\n",
       "  </thead>\n",
       "  <tbody>\n",
       "    <tr>\n",
       "      <th>0</th>\n",
       "      <td>142292</td>\n",
       "      <td>2024-01-14</td>\n",
       "      <td>00:43:25</td>\n",
       "      <td>STR_7</td>\n",
       "      <td>CUST3706</td>\n",
       "      <td>Item_4</td>\n",
       "      <td>5.5</td>\n",
       "      <td>52</td>\n",
       "    </tr>\n",
       "    <tr>\n",
       "      <th>1</th>\n",
       "      <td>99927</td>\n",
       "      <td>2023-07-07</td>\n",
       "      <td>09:33:49</td>\n",
       "      <td>STR_4</td>\n",
       "      <td>CUST3706</td>\n",
       "      <td>Item_4</td>\n",
       "      <td>5.5</td>\n",
       "      <td>52</td>\n",
       "    </tr>\n",
       "    <tr>\n",
       "      <th>2</th>\n",
       "      <td>99927</td>\n",
       "      <td>2023-07-07</td>\n",
       "      <td>09:33:49</td>\n",
       "      <td>STR_4</td>\n",
       "      <td>CUST3706</td>\n",
       "      <td>Item_4</td>\n",
       "      <td>5.5</td>\n",
       "      <td>52</td>\n",
       "    </tr>\n",
       "    <tr>\n",
       "      <th>3</th>\n",
       "      <td>129407</td>\n",
       "      <td>2024-04-04</td>\n",
       "      <td>05:15:54</td>\n",
       "      <td>STR_1</td>\n",
       "      <td>CUST3706</td>\n",
       "      <td>Item_1</td>\n",
       "      <td>6.5</td>\n",
       "      <td>52</td>\n",
       "    </tr>\n",
       "    <tr>\n",
       "      <th>4</th>\n",
       "      <td>129407</td>\n",
       "      <td>2024-04-04</td>\n",
       "      <td>05:15:54</td>\n",
       "      <td>STR_1</td>\n",
       "      <td>CUST3706</td>\n",
       "      <td>Item_1</td>\n",
       "      <td>6.5</td>\n",
       "      <td>52</td>\n",
       "    </tr>\n",
       "  </tbody>\n",
       "</table>\n",
       "</div>"
      ],
      "text/plain": [
       "   Order_Number Transaction_Date Transaction_Time Store_Number Customer_ID  \\\n",
       "0        142292       2024-01-14         00:43:25        STR_7    CUST3706   \n",
       "1         99927       2023-07-07         09:33:49        STR_4    CUST3706   \n",
       "2         99927       2023-07-07         09:33:49        STR_4    CUST3706   \n",
       "3        129407       2024-04-04         05:15:54        STR_1    CUST3706   \n",
       "4        129407       2024-04-04         05:15:54        STR_1    CUST3706   \n",
       "\n",
       "  Item_Number  Price  Age  \n",
       "0      Item_4    5.5   52  \n",
       "1      Item_4    5.5   52  \n",
       "2      Item_4    5.5   52  \n",
       "3      Item_1    6.5   52  \n",
       "4      Item_1    6.5   52  "
      ]
     },
     "execution_count": 28,
     "metadata": {},
     "output_type": "execute_result"
    }
   ],
   "source": [
    "merged_df.head()"
   ]
  },
  {
   "cell_type": "markdown",
   "metadata": {},
   "source": [
    "### Modification 3"
   ]
  },
  {
   "cell_type": "code",
   "execution_count": 31,
   "metadata": {},
   "outputs": [],
   "source": [
    "# Calculate average spending per customer\n",
    "customer_spending = merged_df.groupby('Customer_ID').agg({\n",
    "    'Price': 'mean',\n",
    "    'Age': 'first'\n",
    "}).reset_index()\n",
    "\n",
    "# Create age bins\n",
    "age_bins = [0, 20, 30, 40, 50, 60, 70, 80, 90, 100]\n",
    "age_labels = ['0-20', '21-30', '31-40', '41-50', '51-60', '61-70', '71-80', '81-90', '91+']\n",
    "customer_spending['Age_Group'] = pd.cut(customer_spending['Age'], bins=age_bins, labels=age_labels, right=False)\n",
    "\n",
    "# Calculate statistics for each age group\n",
    "age_group_stats = customer_spending.groupby('Age_Group').agg({\n",
    "    'Price': ['mean', 'median', 'count'],\n",
    "    'Customer_ID': 'count'\n",
    "}).reset_index()\n",
    "age_group_stats.columns = ['Age_Group', 'Avg_Spending', 'Median_Spending', 'Transaction_Count', 'Customer_Count']"
   ]
  },
  {
   "cell_type": "markdown",
   "metadata": {},
   "source": [
    "# 10. Customer Age Distribution vs. Spending"
   ]
  },
  {
   "cell_type": "code",
   "execution_count": 32,
   "metadata": {},
   "outputs": [
    {
     "data": {
      "application/vnd.plotly.v1+json": {
       "config": {
        "plotlyServerURL": "https://plot.ly"
       },
       "data": [
        {
         "customdata": [
          [
           5.827862573310022,
           5.833333333333333,
           355
          ],
          [
           5.827683373259574,
           5.824264705882353,
           1858
          ],
          [
           5.834617220483977,
           5.827586206896552,
           1902
          ],
          [
           5.8264711048944315,
           5.82258064516129,
           1939
          ],
          [
           5.829082766554293,
           5.828571428571428,
           1849
          ],
          [
           5.831853399926242,
           5.825,
           1867
          ],
          [
           5.829748880800614,
           5.833333333333333,
           230
          ],
          [
           null,
           null,
           0
          ],
          [
           null,
           null,
           0
          ]
         ],
         "hoverinfo": "text",
         "hoverlabel": {
          "bgcolor": "white",
          "font": {
           "size": 12
          }
         },
         "hovertemplate": "Age Group: %{x}<br>Number of Customers: %{y}<br>Average Spending: $%{customdata[0]:.2f}<br>Median Spending: $%{customdata[1]:.2f}<br>Transaction Count: %{customdata[2]}<extra></extra>",
         "marker": {
          "color": "lightblue"
         },
         "name": "Number of Customers",
         "offsetgroup": "1",
         "type": "bar",
         "x": [
          "0-20",
          "21-30",
          "31-40",
          "41-50",
          "51-60",
          "61-70",
          "71-80",
          "81-90",
          "91+"
         ],
         "y": [
          355,
          1858,
          1902,
          1939,
          1849,
          1867,
          230,
          0,
          0
         ],
         "yaxis": "y"
        },
        {
         "customdata": [
          [
           5.827862573310022,
           5.833333333333333,
           355
          ],
          [
           5.827683373259574,
           5.824264705882353,
           1858
          ],
          [
           5.834617220483977,
           5.827586206896552,
           1902
          ],
          [
           5.8264711048944315,
           5.82258064516129,
           1939
          ],
          [
           5.829082766554293,
           5.828571428571428,
           1849
          ],
          [
           5.831853399926242,
           5.825,
           1867
          ],
          [
           5.829748880800614,
           5.833333333333333,
           230
          ],
          [
           null,
           null,
           0
          ],
          [
           null,
           null,
           0
          ]
         ],
         "hoverinfo": "text",
         "hoverlabel": {
          "bgcolor": "white",
          "font": {
           "size": 12
          }
         },
         "hovertemplate": "Age Group: %{x}<br>Number of Customers: %{y}<br>Average Spending: $%{customdata[0]:.2f}<br>Median Spending: $%{customdata[1]:.2f}<br>Transaction Count: %{customdata[2]}<extra></extra>",
         "line": {
          "color": "red",
          "width": 2
         },
         "marker": {
          "size": 8
         },
         "mode": "lines+markers",
         "name": "Average Spending",
         "type": "scatter",
         "x": [
          "0-20",
          "21-30",
          "31-40",
          "41-50",
          "51-60",
          "61-70",
          "71-80",
          "81-90",
          "91+"
         ],
         "y": [
          5.827862573310022,
          5.827683373259574,
          5.834617220483977,
          5.8264711048944315,
          5.829082766554293,
          5.831853399926242,
          5.829748880800614,
          null,
          null
         ],
         "yaxis": "y2"
        }
       ],
       "layout": {
        "bargap": 0.15,
        "bargroupgap": 0.1,
        "barmode": "group",
        "legend": {
         "bgcolor": "rgba(255, 255, 255, 0.5)",
         "x": 1.1,
         "y": 1
        },
        "template": {
         "data": {
          "bar": [
           {
            "error_x": {
             "color": "#2a3f5f"
            },
            "error_y": {
             "color": "#2a3f5f"
            },
            "marker": {
             "line": {
              "color": "#E5ECF6",
              "width": 0.5
             },
             "pattern": {
              "fillmode": "overlay",
              "size": 10,
              "solidity": 0.2
             }
            },
            "type": "bar"
           }
          ],
          "barpolar": [
           {
            "marker": {
             "line": {
              "color": "#E5ECF6",
              "width": 0.5
             },
             "pattern": {
              "fillmode": "overlay",
              "size": 10,
              "solidity": 0.2
             }
            },
            "type": "barpolar"
           }
          ],
          "carpet": [
           {
            "aaxis": {
             "endlinecolor": "#2a3f5f",
             "gridcolor": "white",
             "linecolor": "white",
             "minorgridcolor": "white",
             "startlinecolor": "#2a3f5f"
            },
            "baxis": {
             "endlinecolor": "#2a3f5f",
             "gridcolor": "white",
             "linecolor": "white",
             "minorgridcolor": "white",
             "startlinecolor": "#2a3f5f"
            },
            "type": "carpet"
           }
          ],
          "choropleth": [
           {
            "colorbar": {
             "outlinewidth": 0,
             "ticks": ""
            },
            "type": "choropleth"
           }
          ],
          "contour": [
           {
            "colorbar": {
             "outlinewidth": 0,
             "ticks": ""
            },
            "colorscale": [
             [
              0,
              "#0d0887"
             ],
             [
              0.1111111111111111,
              "#46039f"
             ],
             [
              0.2222222222222222,
              "#7201a8"
             ],
             [
              0.3333333333333333,
              "#9c179e"
             ],
             [
              0.4444444444444444,
              "#bd3786"
             ],
             [
              0.5555555555555556,
              "#d8576b"
             ],
             [
              0.6666666666666666,
              "#ed7953"
             ],
             [
              0.7777777777777778,
              "#fb9f3a"
             ],
             [
              0.8888888888888888,
              "#fdca26"
             ],
             [
              1,
              "#f0f921"
             ]
            ],
            "type": "contour"
           }
          ],
          "contourcarpet": [
           {
            "colorbar": {
             "outlinewidth": 0,
             "ticks": ""
            },
            "type": "contourcarpet"
           }
          ],
          "heatmap": [
           {
            "colorbar": {
             "outlinewidth": 0,
             "ticks": ""
            },
            "colorscale": [
             [
              0,
              "#0d0887"
             ],
             [
              0.1111111111111111,
              "#46039f"
             ],
             [
              0.2222222222222222,
              "#7201a8"
             ],
             [
              0.3333333333333333,
              "#9c179e"
             ],
             [
              0.4444444444444444,
              "#bd3786"
             ],
             [
              0.5555555555555556,
              "#d8576b"
             ],
             [
              0.6666666666666666,
              "#ed7953"
             ],
             [
              0.7777777777777778,
              "#fb9f3a"
             ],
             [
              0.8888888888888888,
              "#fdca26"
             ],
             [
              1,
              "#f0f921"
             ]
            ],
            "type": "heatmap"
           }
          ],
          "heatmapgl": [
           {
            "colorbar": {
             "outlinewidth": 0,
             "ticks": ""
            },
            "colorscale": [
             [
              0,
              "#0d0887"
             ],
             [
              0.1111111111111111,
              "#46039f"
             ],
             [
              0.2222222222222222,
              "#7201a8"
             ],
             [
              0.3333333333333333,
              "#9c179e"
             ],
             [
              0.4444444444444444,
              "#bd3786"
             ],
             [
              0.5555555555555556,
              "#d8576b"
             ],
             [
              0.6666666666666666,
              "#ed7953"
             ],
             [
              0.7777777777777778,
              "#fb9f3a"
             ],
             [
              0.8888888888888888,
              "#fdca26"
             ],
             [
              1,
              "#f0f921"
             ]
            ],
            "type": "heatmapgl"
           }
          ],
          "histogram": [
           {
            "marker": {
             "pattern": {
              "fillmode": "overlay",
              "size": 10,
              "solidity": 0.2
             }
            },
            "type": "histogram"
           }
          ],
          "histogram2d": [
           {
            "colorbar": {
             "outlinewidth": 0,
             "ticks": ""
            },
            "colorscale": [
             [
              0,
              "#0d0887"
             ],
             [
              0.1111111111111111,
              "#46039f"
             ],
             [
              0.2222222222222222,
              "#7201a8"
             ],
             [
              0.3333333333333333,
              "#9c179e"
             ],
             [
              0.4444444444444444,
              "#bd3786"
             ],
             [
              0.5555555555555556,
              "#d8576b"
             ],
             [
              0.6666666666666666,
              "#ed7953"
             ],
             [
              0.7777777777777778,
              "#fb9f3a"
             ],
             [
              0.8888888888888888,
              "#fdca26"
             ],
             [
              1,
              "#f0f921"
             ]
            ],
            "type": "histogram2d"
           }
          ],
          "histogram2dcontour": [
           {
            "colorbar": {
             "outlinewidth": 0,
             "ticks": ""
            },
            "colorscale": [
             [
              0,
              "#0d0887"
             ],
             [
              0.1111111111111111,
              "#46039f"
             ],
             [
              0.2222222222222222,
              "#7201a8"
             ],
             [
              0.3333333333333333,
              "#9c179e"
             ],
             [
              0.4444444444444444,
              "#bd3786"
             ],
             [
              0.5555555555555556,
              "#d8576b"
             ],
             [
              0.6666666666666666,
              "#ed7953"
             ],
             [
              0.7777777777777778,
              "#fb9f3a"
             ],
             [
              0.8888888888888888,
              "#fdca26"
             ],
             [
              1,
              "#f0f921"
             ]
            ],
            "type": "histogram2dcontour"
           }
          ],
          "mesh3d": [
           {
            "colorbar": {
             "outlinewidth": 0,
             "ticks": ""
            },
            "type": "mesh3d"
           }
          ],
          "parcoords": [
           {
            "line": {
             "colorbar": {
              "outlinewidth": 0,
              "ticks": ""
             }
            },
            "type": "parcoords"
           }
          ],
          "pie": [
           {
            "automargin": true,
            "type": "pie"
           }
          ],
          "scatter": [
           {
            "fillpattern": {
             "fillmode": "overlay",
             "size": 10,
             "solidity": 0.2
            },
            "type": "scatter"
           }
          ],
          "scatter3d": [
           {
            "line": {
             "colorbar": {
              "outlinewidth": 0,
              "ticks": ""
             }
            },
            "marker": {
             "colorbar": {
              "outlinewidth": 0,
              "ticks": ""
             }
            },
            "type": "scatter3d"
           }
          ],
          "scattercarpet": [
           {
            "marker": {
             "colorbar": {
              "outlinewidth": 0,
              "ticks": ""
             }
            },
            "type": "scattercarpet"
           }
          ],
          "scattergeo": [
           {
            "marker": {
             "colorbar": {
              "outlinewidth": 0,
              "ticks": ""
             }
            },
            "type": "scattergeo"
           }
          ],
          "scattergl": [
           {
            "marker": {
             "colorbar": {
              "outlinewidth": 0,
              "ticks": ""
             }
            },
            "type": "scattergl"
           }
          ],
          "scattermapbox": [
           {
            "marker": {
             "colorbar": {
              "outlinewidth": 0,
              "ticks": ""
             }
            },
            "type": "scattermapbox"
           }
          ],
          "scatterpolar": [
           {
            "marker": {
             "colorbar": {
              "outlinewidth": 0,
              "ticks": ""
             }
            },
            "type": "scatterpolar"
           }
          ],
          "scatterpolargl": [
           {
            "marker": {
             "colorbar": {
              "outlinewidth": 0,
              "ticks": ""
             }
            },
            "type": "scatterpolargl"
           }
          ],
          "scatterternary": [
           {
            "marker": {
             "colorbar": {
              "outlinewidth": 0,
              "ticks": ""
             }
            },
            "type": "scatterternary"
           }
          ],
          "surface": [
           {
            "colorbar": {
             "outlinewidth": 0,
             "ticks": ""
            },
            "colorscale": [
             [
              0,
              "#0d0887"
             ],
             [
              0.1111111111111111,
              "#46039f"
             ],
             [
              0.2222222222222222,
              "#7201a8"
             ],
             [
              0.3333333333333333,
              "#9c179e"
             ],
             [
              0.4444444444444444,
              "#bd3786"
             ],
             [
              0.5555555555555556,
              "#d8576b"
             ],
             [
              0.6666666666666666,
              "#ed7953"
             ],
             [
              0.7777777777777778,
              "#fb9f3a"
             ],
             [
              0.8888888888888888,
              "#fdca26"
             ],
             [
              1,
              "#f0f921"
             ]
            ],
            "type": "surface"
           }
          ],
          "table": [
           {
            "cells": {
             "fill": {
              "color": "#EBF0F8"
             },
             "line": {
              "color": "white"
             }
            },
            "header": {
             "fill": {
              "color": "#C8D4E3"
             },
             "line": {
              "color": "white"
             }
            },
            "type": "table"
           }
          ]
         },
         "layout": {
          "annotationdefaults": {
           "arrowcolor": "#2a3f5f",
           "arrowhead": 0,
           "arrowwidth": 1
          },
          "autotypenumbers": "strict",
          "coloraxis": {
           "colorbar": {
            "outlinewidth": 0,
            "ticks": ""
           }
          },
          "colorscale": {
           "diverging": [
            [
             0,
             "#8e0152"
            ],
            [
             0.1,
             "#c51b7d"
            ],
            [
             0.2,
             "#de77ae"
            ],
            [
             0.3,
             "#f1b6da"
            ],
            [
             0.4,
             "#fde0ef"
            ],
            [
             0.5,
             "#f7f7f7"
            ],
            [
             0.6,
             "#e6f5d0"
            ],
            [
             0.7,
             "#b8e186"
            ],
            [
             0.8,
             "#7fbc41"
            ],
            [
             0.9,
             "#4d9221"
            ],
            [
             1,
             "#276419"
            ]
           ],
           "sequential": [
            [
             0,
             "#0d0887"
            ],
            [
             0.1111111111111111,
             "#46039f"
            ],
            [
             0.2222222222222222,
             "#7201a8"
            ],
            [
             0.3333333333333333,
             "#9c179e"
            ],
            [
             0.4444444444444444,
             "#bd3786"
            ],
            [
             0.5555555555555556,
             "#d8576b"
            ],
            [
             0.6666666666666666,
             "#ed7953"
            ],
            [
             0.7777777777777778,
             "#fb9f3a"
            ],
            [
             0.8888888888888888,
             "#fdca26"
            ],
            [
             1,
             "#f0f921"
            ]
           ],
           "sequentialminus": [
            [
             0,
             "#0d0887"
            ],
            [
             0.1111111111111111,
             "#46039f"
            ],
            [
             0.2222222222222222,
             "#7201a8"
            ],
            [
             0.3333333333333333,
             "#9c179e"
            ],
            [
             0.4444444444444444,
             "#bd3786"
            ],
            [
             0.5555555555555556,
             "#d8576b"
            ],
            [
             0.6666666666666666,
             "#ed7953"
            ],
            [
             0.7777777777777778,
             "#fb9f3a"
            ],
            [
             0.8888888888888888,
             "#fdca26"
            ],
            [
             1,
             "#f0f921"
            ]
           ]
          },
          "colorway": [
           "#636efa",
           "#EF553B",
           "#00cc96",
           "#ab63fa",
           "#FFA15A",
           "#19d3f3",
           "#FF6692",
           "#B6E880",
           "#FF97FF",
           "#FECB52"
          ],
          "font": {
           "color": "#2a3f5f"
          },
          "geo": {
           "bgcolor": "white",
           "lakecolor": "white",
           "landcolor": "#E5ECF6",
           "showlakes": true,
           "showland": true,
           "subunitcolor": "white"
          },
          "hoverlabel": {
           "align": "left"
          },
          "hovermode": "closest",
          "mapbox": {
           "style": "light"
          },
          "paper_bgcolor": "white",
          "plot_bgcolor": "#E5ECF6",
          "polar": {
           "angularaxis": {
            "gridcolor": "white",
            "linecolor": "white",
            "ticks": ""
           },
           "bgcolor": "#E5ECF6",
           "radialaxis": {
            "gridcolor": "white",
            "linecolor": "white",
            "ticks": ""
           }
          },
          "scene": {
           "xaxis": {
            "backgroundcolor": "#E5ECF6",
            "gridcolor": "white",
            "gridwidth": 2,
            "linecolor": "white",
            "showbackground": true,
            "ticks": "",
            "zerolinecolor": "white"
           },
           "yaxis": {
            "backgroundcolor": "#E5ECF6",
            "gridcolor": "white",
            "gridwidth": 2,
            "linecolor": "white",
            "showbackground": true,
            "ticks": "",
            "zerolinecolor": "white"
           },
           "zaxis": {
            "backgroundcolor": "#E5ECF6",
            "gridcolor": "white",
            "gridwidth": 2,
            "linecolor": "white",
            "showbackground": true,
            "ticks": "",
            "zerolinecolor": "white"
           }
          },
          "shapedefaults": {
           "line": {
            "color": "#2a3f5f"
           }
          },
          "ternary": {
           "aaxis": {
            "gridcolor": "white",
            "linecolor": "white",
            "ticks": ""
           },
           "baxis": {
            "gridcolor": "white",
            "linecolor": "white",
            "ticks": ""
           },
           "bgcolor": "#E5ECF6",
           "caxis": {
            "gridcolor": "white",
            "linecolor": "white",
            "ticks": ""
           }
          },
          "title": {
           "x": 0.05
          },
          "xaxis": {
           "automargin": true,
           "gridcolor": "white",
           "linecolor": "white",
           "ticks": "",
           "title": {
            "standoff": 15
           },
           "zerolinecolor": "white",
           "zerolinewidth": 2
          },
          "yaxis": {
           "automargin": true,
           "gridcolor": "white",
           "linecolor": "white",
           "ticks": "",
           "title": {
            "standoff": 15
           },
           "zerolinecolor": "white",
           "zerolinewidth": 2
          }
         }
        },
        "title": {
         "text": "Customer Age Distribution vs. Average Spending"
        },
        "xaxis": {
         "title": {
          "text": "Age Group"
         }
        },
        "yaxis": {
         "showgrid": false,
         "side": "left",
         "title": {
          "text": "Number of Customers"
         }
        },
        "yaxis2": {
         "overlaying": "y",
         "showgrid": false,
         "side": "right",
         "title": {
          "text": "Average Spending ($)"
         }
        }
       }
      }
     },
     "metadata": {},
     "output_type": "display_data"
    }
   ],
   "source": [
    "# Create the plot\n",
    "fig = go.Figure()\n",
    "\n",
    "# Bar chart for customer count\n",
    "fig.add_trace(go.Bar(\n",
    "    x=age_group_stats['Age_Group'],\n",
    "    y=age_group_stats['Customer_Count'],\n",
    "    name='Number of Customers',\n",
    "    yaxis='y',\n",
    "    offsetgroup=1,\n",
    "    marker_color='lightblue',\n",
    "    hovertemplate='Age Group: %{x}<br>Number of Customers: %{y}<extra></extra>'\n",
    "))\n",
    "\n",
    "# Line chart for average spending\n",
    "fig.add_trace(go.Scatter(\n",
    "    x=age_group_stats['Age_Group'],\n",
    "    y=age_group_stats['Avg_Spending'],\n",
    "    name='Average Spending',\n",
    "    yaxis='y2',\n",
    "    mode='lines+markers',\n",
    "    line=dict(color='red', width=2),\n",
    "    marker=dict(size=8),\n",
    "    hovertemplate='Age Group: %{x}<br>Average Spending: $%{y:.2f}<extra></extra>'\n",
    "))\n",
    "\n",
    "# Update layout\n",
    "fig.update_layout(\n",
    "    title='Customer Age Distribution vs. Average Spending',\n",
    "    xaxis=dict(title='Age Group'),\n",
    "    yaxis=dict(title='Number of Customers', side='left', showgrid=False),\n",
    "    yaxis2=dict(title='Average Spending ($)', side='right', overlaying='y', showgrid=False),\n",
    "    legend=dict(x=1.1, y=1, bgcolor='rgba(255, 255, 255, 0.5)'),\n",
    "    barmode='group',\n",
    "    bargap=0.15,\n",
    "    bargroupgap=0.1\n",
    ")\n",
    "\n",
    "# Add hover for more details\n",
    "fig.update_traces(\n",
    "    hoverinfo=\"text\",\n",
    "    hoverlabel=dict(bgcolor=\"white\", font_size=12),\n",
    "    hovertemplate=\"Age Group: %{x}<br>\" +\n",
    "                  \"Number of Customers: %{y}<br>\" +\n",
    "                  \"Average Spending: $%{customdata[0]:.2f}<br>\" +\n",
    "                  \"Median Spending: $%{customdata[1]:.2f}<br>\" +\n",
    "                  \"Transaction Count: %{customdata[2]}<extra></extra>\",\n",
    "    customdata=age_group_stats[['Avg_Spending', 'Median_Spending', 'Transaction_Count']]\n",
    ")\n",
    "\n",
    "fig.show()"
   ]
  },
  {
   "cell_type": "code",
   "execution_count": null,
   "metadata": {},
   "outputs": [],
   "source": []
  }
 ],
 "metadata": {
  "kernelspec": {
   "display_name": "Python_NN",
   "language": "python",
   "name": "python3"
  },
  "language_info": {
   "codemirror_mode": {
    "name": "ipython",
    "version": 3
   },
   "file_extension": ".py",
   "mimetype": "text/x-python",
   "name": "python",
   "nbconvert_exporter": "python",
   "pygments_lexer": "ipython3",
   "version": "3.11.5"
  }
 },
 "nbformat": 4,
 "nbformat_minor": 2
}

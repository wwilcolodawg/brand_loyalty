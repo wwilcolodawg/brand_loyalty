{
 "cells": [
  {
   "cell_type": "code",
   "execution_count": 7,
   "metadata": {},
   "outputs": [],
   "source": [
    "import pandas as pd"
   ]
  },
  {
   "cell_type": "code",
   "execution_count": 11,
   "metadata": {},
   "outputs": [],
   "source": [
    "FOLDER_NAME = 'Data'"
   ]
  },
  {
   "cell_type": "code",
   "execution_count": 12,
   "metadata": {},
   "outputs": [
    {
     "name": "stdout",
     "output_type": "stream",
     "text": [
      "     Group Item_Number Ingredient  Price  Cost  Points Earn  Points Redeem\n",
      "0  Primary      Item_1    Chicken    6.5   2.0         65.0          400.0\n",
      "1  Primary      Item_2       Beef    8.0   2.5         80.0          500.0\n",
      "2  Primary      Item_3     Shrimp    7.5   3.0         75.0          600.0\n",
      "3  Primary      Item_4       Tofu    5.5   1.0         55.0          200.0\n",
      "4  Primary      Item_5  Chickpeas    4.5   0.5         45.0          100.0\n"
     ]
    }
   ],
   "source": [
    "menu_df = pd.read_csv(FOLDER_NAME + '/' + 'menu_analysis.csv')\n",
    "print(menu_df.head())"
   ]
  },
  {
   "cell_type": "code",
   "execution_count": 13,
   "metadata": {},
   "outputs": [
    {
     "name": "stdout",
     "output_type": "stream",
     "text": [
      "  Customer_ID First_Name Last_Name                       Email  \\\n",
      "0    CUST0000      Jason     Silva         wtorres@example.com   \n",
      "1    CUST0001     Kelsey   Griffin  stephaniecraig@example.org   \n",
      "2    CUST0002   Jennifer    Miller     elizabeth98@example.com   \n",
      "3    CUST0003      Kevin     Smith          lori60@example.net   \n",
      "4    CUST0004     Robert    Murphy         wmiller@example.org   \n",
      "\n",
      "                   Phone         DOB             Gender  \\\n",
      "0      549.344.4954x3469  1971-02-01             Female   \n",
      "1  001-556-842-0852x5486  1989-12-05             Female   \n",
      "2     (662)296-7078x3636  1997-10-16               Male   \n",
      "3          (974)298-9536  1981-12-02               Male   \n",
      "4    (279)595-9855x12557  1964-02-24  Prefer not to say   \n",
      "\n",
      "                          Address              City  ST  Zip_Code  \\\n",
      "0              291 Gonzalez Shoal        Welchmouth  MN     55064   \n",
      "1              330 Richard Shores  Lake Paulchester  MN     55489   \n",
      "2  273 Kimberly Islands Suite 801       Wilsonville  MN     55257   \n",
      "3    17190 Nicole Ports Suite 554        Walkerfort  MN     55254   \n",
      "4                7914 Debra Court        Denisetown  MN     56585   \n",
      "\n",
      "  Member_Since  Newsletter_Subscription  Feedback_Provided  \\\n",
      "0   2023-11-17                    False               True   \n",
      "1   2020-12-24                    False              False   \n",
      "2   2020-01-21                     True               True   \n",
      "3   2020-06-04                    False               True   \n",
      "4   2023-05-14                     True              False   \n",
      "\n",
      "  Communication_Preferences  Data_Sharing_Consent  \n",
      "0                       NaN                  True  \n",
      "1                     Email                  True  \n",
      "2                       NaN                  True  \n",
      "3                       NaN                  True  \n",
      "4                       NaN                  True  \n"
     ]
    }
   ],
   "source": [
    "customers_df = pd.read_csv(FOLDER_NAME + '/' + 'customers.csv')\n",
    "print(customers_df.head())"
   ]
  },
  {
   "cell_type": "code",
   "execution_count": 14,
   "metadata": {},
   "outputs": [
    {
     "name": "stdout",
     "output_type": "stream",
     "text": [
      "  Store_Name Store_Number                      Address         City State  \\\n",
      "0    Store_1        STR_1            80645 Jesse Plain     St. Paul    MN   \n",
      "1    Store_2        STR_2   7585 Rojas Canyon Apt. 693     St. Paul    MN   \n",
      "2    Store_3        STR_3   2279 Young Harbor Apt. 146  Minneapolis    MN   \n",
      "3    Store_4        STR_4  03518 Megan River Suite 461    Rochester    MN   \n",
      "4    Store_5        STR_5            91129 Gordon Isle     Plymouth    MN   \n",
      "\n",
      "     Zip  \n",
      "0  61333  \n",
      "1  22696  \n",
      "2  98151  \n",
      "3  13864  \n",
      "4  47642  \n"
     ]
    }
   ],
   "source": [
    "stores_df = pd.read_csv(FOLDER_NAME + '/' + 'stores.csv')\n",
    "print(stores_df.head())"
   ]
  },
  {
   "cell_type": "code",
   "execution_count": 15,
   "metadata": {},
   "outputs": [
    {
     "data": {
      "text/html": [
       "<div>\n",
       "<style scoped>\n",
       "    .dataframe tbody tr th:only-of-type {\n",
       "        vertical-align: middle;\n",
       "    }\n",
       "\n",
       "    .dataframe tbody tr th {\n",
       "        vertical-align: top;\n",
       "    }\n",
       "\n",
       "    .dataframe thead th {\n",
       "        text-align: right;\n",
       "    }\n",
       "</style>\n",
       "<table border=\"1\" class=\"dataframe\">\n",
       "  <thead>\n",
       "    <tr style=\"text-align: right;\">\n",
       "      <th></th>\n",
       "      <th>Item_Num</th>\n",
       "      <th>Order_Prob</th>\n",
       "    </tr>\n",
       "  </thead>\n",
       "  <tbody>\n",
       "    <tr>\n",
       "      <th>0</th>\n",
       "      <td>Item_1</td>\n",
       "      <td>0.25</td>\n",
       "    </tr>\n",
       "    <tr>\n",
       "      <th>1</th>\n",
       "      <td>Item_2</td>\n",
       "      <td>0.15</td>\n",
       "    </tr>\n",
       "    <tr>\n",
       "      <th>2</th>\n",
       "      <td>Item_3</td>\n",
       "      <td>0.07</td>\n",
       "    </tr>\n",
       "    <tr>\n",
       "      <th>3</th>\n",
       "      <td>Item_4</td>\n",
       "      <td>0.08</td>\n",
       "    </tr>\n",
       "    <tr>\n",
       "      <th>4</th>\n",
       "      <td>Item_5</td>\n",
       "      <td>0.10</td>\n",
       "    </tr>\n",
       "    <tr>\n",
       "      <th>5</th>\n",
       "      <td>Item_6</td>\n",
       "      <td>0.09</td>\n",
       "    </tr>\n",
       "    <tr>\n",
       "      <th>6</th>\n",
       "      <td>Item_7</td>\n",
       "      <td>0.07</td>\n",
       "    </tr>\n",
       "    <tr>\n",
       "      <th>7</th>\n",
       "      <td>Item_8</td>\n",
       "      <td>0.15</td>\n",
       "    </tr>\n",
       "    <tr>\n",
       "      <th>8</th>\n",
       "      <td>Item_35</td>\n",
       "      <td>0.01</td>\n",
       "    </tr>\n",
       "    <tr>\n",
       "      <th>9</th>\n",
       "      <td>Item_36</td>\n",
       "      <td>0.01</td>\n",
       "    </tr>\n",
       "    <tr>\n",
       "      <th>10</th>\n",
       "      <td>Item_37</td>\n",
       "      <td>0.01</td>\n",
       "    </tr>\n",
       "    <tr>\n",
       "      <th>11</th>\n",
       "      <td>Item_38</td>\n",
       "      <td>0.01</td>\n",
       "    </tr>\n",
       "  </tbody>\n",
       "</table>\n",
       "</div>"
      ],
      "text/plain": [
       "   Item_Num  Order_Prob\n",
       "0    Item_1        0.25\n",
       "1    Item_2        0.15\n",
       "2    Item_3        0.07\n",
       "3    Item_4        0.08\n",
       "4    Item_5        0.10\n",
       "5    Item_6        0.09\n",
       "6    Item_7        0.07\n",
       "7    Item_8        0.15\n",
       "8   Item_35        0.01\n",
       "9   Item_36        0.01\n",
       "10  Item_37        0.01\n",
       "11  Item_38        0.01"
      ]
     },
     "execution_count": 15,
     "metadata": {},
     "output_type": "execute_result"
    }
   ],
   "source": [
    "structure_df = pd.read_csv(FOLDER_NAME + '/' + 'structure.csv')\n",
    "structure_df"
   ]
  },
  {
   "cell_type": "code",
   "execution_count": 16,
   "metadata": {},
   "outputs": [
    {
     "name": "stdout",
     "output_type": "stream",
     "text": [
      "   Order_size  Order_Size_Prob\n",
      "0           1             0.25\n",
      "1           2             0.35\n",
      "2           3             0.12\n",
      "3           4             0.15\n",
      "4           5             0.05\n",
      "5           6             0.05\n",
      "6           7             0.02\n",
      "7           8             0.01\n"
     ]
    }
   ],
   "source": [
    "size_df = pd.read_csv(FOLDER_NAME + '/' + 'order_size.csv')\n",
    "print(size_df)"
   ]
  },
  {
   "cell_type": "code",
   "execution_count": 17,
   "metadata": {},
   "outputs": [
    {
     "data": {
      "text/html": [
       "<div>\n",
       "<style scoped>\n",
       "    .dataframe tbody tr th:only-of-type {\n",
       "        vertical-align: middle;\n",
       "    }\n",
       "\n",
       "    .dataframe tbody tr th {\n",
       "        vertical-align: top;\n",
       "    }\n",
       "\n",
       "    .dataframe thead th {\n",
       "        text-align: right;\n",
       "    }\n",
       "</style>\n",
       "<table border=\"1\" class=\"dataframe\">\n",
       "  <thead>\n",
       "    <tr style=\"text-align: right;\">\n",
       "      <th></th>\n",
       "      <th>Order_Number</th>\n",
       "      <th>Transaction_Date</th>\n",
       "      <th>Transaction_Time</th>\n",
       "      <th>Store_Number</th>\n",
       "      <th>Customer_ID</th>\n",
       "      <th>Item_Number</th>\n",
       "    </tr>\n",
       "  </thead>\n",
       "  <tbody>\n",
       "    <tr>\n",
       "      <th>0</th>\n",
       "      <td>7830</td>\n",
       "      <td>2023-12-18</td>\n",
       "      <td>09:19:10</td>\n",
       "      <td>STR_3</td>\n",
       "      <td>CUST0024</td>\n",
       "      <td>Item_1</td>\n",
       "    </tr>\n",
       "    <tr>\n",
       "      <th>1</th>\n",
       "      <td>5582</td>\n",
       "      <td>2023-10-05</td>\n",
       "      <td>20:36:56</td>\n",
       "      <td>STR_4</td>\n",
       "      <td>CUST0045</td>\n",
       "      <td>Item_7</td>\n",
       "    </tr>\n",
       "    <tr>\n",
       "      <th>2</th>\n",
       "      <td>5582</td>\n",
       "      <td>2023-10-05</td>\n",
       "      <td>20:36:56</td>\n",
       "      <td>STR_4</td>\n",
       "      <td>CUST0045</td>\n",
       "      <td>Item_5</td>\n",
       "    </tr>\n",
       "    <tr>\n",
       "      <th>3</th>\n",
       "      <td>6591</td>\n",
       "      <td>2024-04-20</td>\n",
       "      <td>02:13:48</td>\n",
       "      <td>STR_4</td>\n",
       "      <td>CUST0005</td>\n",
       "      <td>Item_1</td>\n",
       "    </tr>\n",
       "    <tr>\n",
       "      <th>4</th>\n",
       "      <td>6591</td>\n",
       "      <td>2024-04-20</td>\n",
       "      <td>02:13:48</td>\n",
       "      <td>STR_4</td>\n",
       "      <td>CUST0005</td>\n",
       "      <td>Item_1</td>\n",
       "    </tr>\n",
       "  </tbody>\n",
       "</table>\n",
       "</div>"
      ],
      "text/plain": [
       "   Order_Number Transaction_Date Transaction_Time Store_Number Customer_ID  \\\n",
       "0          7830       2023-12-18         09:19:10        STR_3    CUST0024   \n",
       "1          5582       2023-10-05         20:36:56        STR_4    CUST0045   \n",
       "2          5582       2023-10-05         20:36:56        STR_4    CUST0045   \n",
       "3          6591       2024-04-20         02:13:48        STR_4    CUST0005   \n",
       "4          6591       2024-04-20         02:13:48        STR_4    CUST0005   \n",
       "\n",
       "  Item_Number  \n",
       "0      Item_1  \n",
       "1      Item_7  \n",
       "2      Item_5  \n",
       "3      Item_1  \n",
       "4      Item_1  "
      ]
     },
     "execution_count": 17,
     "metadata": {},
     "output_type": "execute_result"
    }
   ],
   "source": [
    "transactions_df = pd.read_csv(FOLDER_NAME + '/' + 'transactions.csv')\n",
    "transactions_df.head()"
   ]
  },
  {
   "cell_type": "code",
   "execution_count": null,
   "metadata": {},
   "outputs": [],
   "source": []
  }
 ],
 "metadata": {
  "kernelspec": {
   "display_name": "Python_NN",
   "language": "python",
   "name": "python3"
  },
  "language_info": {
   "codemirror_mode": {
    "name": "ipython",
    "version": 3
   },
   "file_extension": ".py",
   "mimetype": "text/x-python",
   "name": "python",
   "nbconvert_exporter": "python",
   "pygments_lexer": "ipython3",
   "version": "3.11.5"
  }
 },
 "nbformat": 4,
 "nbformat_minor": 2
}
